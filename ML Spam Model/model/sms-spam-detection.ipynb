{
 "cells": [
  {
   "cell_type": "code",
   "execution_count": 1,
   "id": "83d19df6",
   "metadata": {},
   "outputs": [],
   "source": [
    "import numpy as np\n",
    "import pandas as pd"
   ]
  },
  {
   "cell_type": "code",
   "execution_count": 2,
   "id": "ddbf3227",
   "metadata": {},
   "outputs": [],
   "source": [
    "df=pd.read_csv('spam.csv', encoding='latin-1')"
   ]
  },
  {
   "cell_type": "code",
   "execution_count": 3,
   "id": "557cd6c6",
   "metadata": {},
   "outputs": [
    {
     "data": {
      "text/html": [
       "<div>\n",
       "<style scoped>\n",
       "    .dataframe tbody tr th:only-of-type {\n",
       "        vertical-align: middle;\n",
       "    }\n",
       "\n",
       "    .dataframe tbody tr th {\n",
       "        vertical-align: top;\n",
       "    }\n",
       "\n",
       "    .dataframe thead th {\n",
       "        text-align: right;\n",
       "    }\n",
       "</style>\n",
       "<table border=\"1\" class=\"dataframe\">\n",
       "  <thead>\n",
       "    <tr style=\"text-align: right;\">\n",
       "      <th></th>\n",
       "      <th>v1</th>\n",
       "      <th>v2</th>\n",
       "      <th>Unnamed: 2</th>\n",
       "      <th>Unnamed: 3</th>\n",
       "      <th>Unnamed: 4</th>\n",
       "    </tr>\n",
       "  </thead>\n",
       "  <tbody>\n",
       "    <tr>\n",
       "      <th>3971</th>\n",
       "      <td>ham</td>\n",
       "      <td>WOT U UP 2 J?</td>\n",
       "      <td>NaN</td>\n",
       "      <td>NaN</td>\n",
       "      <td>NaN</td>\n",
       "    </tr>\n",
       "    <tr>\n",
       "      <th>1461</th>\n",
       "      <td>ham</td>\n",
       "      <td>Kinda. First one gets in at twelve! Aah. Speak...</td>\n",
       "      <td>NaN</td>\n",
       "      <td>NaN</td>\n",
       "      <td>NaN</td>\n",
       "    </tr>\n",
       "    <tr>\n",
       "      <th>70</th>\n",
       "      <td>ham</td>\n",
       "      <td>Wah lucky man... Then can save money... Hee...</td>\n",
       "      <td>NaN</td>\n",
       "      <td>NaN</td>\n",
       "      <td>NaN</td>\n",
       "    </tr>\n",
       "    <tr>\n",
       "      <th>2499</th>\n",
       "      <td>ham</td>\n",
       "      <td>Yup i've finished c Ì_ there...</td>\n",
       "      <td>NaN</td>\n",
       "      <td>NaN</td>\n",
       "      <td>NaN</td>\n",
       "    </tr>\n",
       "    <tr>\n",
       "      <th>1804</th>\n",
       "      <td>ham</td>\n",
       "      <td>The bus leaves at  &amp;lt;#&amp;gt;</td>\n",
       "      <td>NaN</td>\n",
       "      <td>NaN</td>\n",
       "      <td>NaN</td>\n",
       "    </tr>\n",
       "  </tbody>\n",
       "</table>\n",
       "</div>"
      ],
      "text/plain": [
       "       v1                                                 v2 Unnamed: 2  \\\n",
       "3971  ham                                      WOT U UP 2 J?        NaN   \n",
       "1461  ham  Kinda. First one gets in at twelve! Aah. Speak...        NaN   \n",
       "70    ham     Wah lucky man... Then can save money... Hee...        NaN   \n",
       "2499  ham                    Yup i've finished c Ì_ there...        NaN   \n",
       "1804  ham                      The bus leaves at  &lt;#&gt;         NaN   \n",
       "\n",
       "     Unnamed: 3 Unnamed: 4  \n",
       "3971        NaN        NaN  \n",
       "1461        NaN        NaN  \n",
       "70          NaN        NaN  \n",
       "2499        NaN        NaN  \n",
       "1804        NaN        NaN  "
      ]
     },
     "execution_count": 3,
     "metadata": {},
     "output_type": "execute_result"
    }
   ],
   "source": [
    "df.sample(5)"
   ]
  },
  {
   "cell_type": "code",
   "execution_count": 4,
   "id": "ffa46e5d",
   "metadata": {},
   "outputs": [
    {
     "data": {
      "text/plain": [
       "(5572, 5)"
      ]
     },
     "execution_count": 4,
     "metadata": {},
     "output_type": "execute_result"
    }
   ],
   "source": [
    "df.shape"
   ]
  },
  {
   "cell_type": "code",
   "execution_count": 5,
   "id": "0a60112e",
   "metadata": {},
   "outputs": [],
   "source": [
    "# 1. Data cleaning\n",
    "# 2. EDA\n",
    "# 3. Text Preprocessing\n",
    "# 4. Model building\n",
    "# 5. Evaluation\n",
    "# 6. Improvement\n",
    "# 7. Website\n",
    "# 8. Deploy"
   ]
  },
  {
   "cell_type": "markdown",
   "id": "01dee45e",
   "metadata": {},
   "source": [
    "## 1. Data cleaning"
   ]
  },
  {
   "cell_type": "code",
   "execution_count": 6,
   "id": "3d078104",
   "metadata": {},
   "outputs": [
    {
     "name": "stdout",
     "output_type": "stream",
     "text": [
      "<class 'pandas.core.frame.DataFrame'>\n",
      "RangeIndex: 5572 entries, 0 to 5571\n",
      "Data columns (total 5 columns):\n",
      " #   Column      Non-Null Count  Dtype \n",
      "---  ------      --------------  ----- \n",
      " 0   v1          5572 non-null   object\n",
      " 1   v2          5572 non-null   object\n",
      " 2   Unnamed: 2  50 non-null     object\n",
      " 3   Unnamed: 3  12 non-null     object\n",
      " 4   Unnamed: 4  6 non-null      object\n",
      "dtypes: object(5)\n",
      "memory usage: 217.8+ KB\n"
     ]
    }
   ],
   "source": [
    "df.info()"
   ]
  },
  {
   "cell_type": "code",
   "execution_count": 7,
   "id": "0377cea3",
   "metadata": {},
   "outputs": [],
   "source": [
    "# drop last 3 cols\n",
    "df.drop(df.columns[[2,3,4]],axis=1,inplace=True)"
   ]
  },
  {
   "cell_type": "code",
   "execution_count": 8,
   "id": "8b5cd693",
   "metadata": {},
   "outputs": [
    {
     "name": "stdout",
     "output_type": "stream",
     "text": [
      "<class 'pandas.core.frame.DataFrame'>\n",
      "RangeIndex: 5572 entries, 0 to 5571\n",
      "Data columns (total 2 columns):\n",
      " #   Column  Non-Null Count  Dtype \n",
      "---  ------  --------------  ----- \n",
      " 0   v1      5572 non-null   object\n",
      " 1   v2      5572 non-null   object\n",
      "dtypes: object(2)\n",
      "memory usage: 87.2+ KB\n"
     ]
    }
   ],
   "source": [
    "df.info()"
   ]
  },
  {
   "cell_type": "code",
   "execution_count": 9,
   "id": "8f62759a",
   "metadata": {},
   "outputs": [
    {
     "data": {
      "text/html": [
       "<div>\n",
       "<style scoped>\n",
       "    .dataframe tbody tr th:only-of-type {\n",
       "        vertical-align: middle;\n",
       "    }\n",
       "\n",
       "    .dataframe tbody tr th {\n",
       "        vertical-align: top;\n",
       "    }\n",
       "\n",
       "    .dataframe thead th {\n",
       "        text-align: right;\n",
       "    }\n",
       "</style>\n",
       "<table border=\"1\" class=\"dataframe\">\n",
       "  <thead>\n",
       "    <tr style=\"text-align: right;\">\n",
       "      <th></th>\n",
       "      <th>v1</th>\n",
       "      <th>v2</th>\n",
       "    </tr>\n",
       "  </thead>\n",
       "  <tbody>\n",
       "    <tr>\n",
       "      <th>4491</th>\n",
       "      <td>ham</td>\n",
       "      <td>Probably a couple hours tops</td>\n",
       "    </tr>\n",
       "    <tr>\n",
       "      <th>3093</th>\n",
       "      <td>ham</td>\n",
       "      <td>Have you emigrated or something? Ok maybe 5.30...</td>\n",
       "    </tr>\n",
       "    <tr>\n",
       "      <th>1060</th>\n",
       "      <td>ham</td>\n",
       "      <td>I'm working technical support :)voice process....</td>\n",
       "    </tr>\n",
       "    <tr>\n",
       "      <th>1553</th>\n",
       "      <td>ham</td>\n",
       "      <td>Ok how you dear. Did you call chechi</td>\n",
       "    </tr>\n",
       "    <tr>\n",
       "      <th>1431</th>\n",
       "      <td>ham</td>\n",
       "      <td>My painful personal thought- \\I always try to ...</td>\n",
       "    </tr>\n",
       "  </tbody>\n",
       "</table>\n",
       "</div>"
      ],
      "text/plain": [
       "       v1                                                 v2\n",
       "4491  ham                       Probably a couple hours tops\n",
       "3093  ham  Have you emigrated or something? Ok maybe 5.30...\n",
       "1060  ham  I'm working technical support :)voice process....\n",
       "1553  ham               Ok how you dear. Did you call chechi\n",
       "1431  ham  My painful personal thought- \\I always try to ..."
      ]
     },
     "execution_count": 9,
     "metadata": {},
     "output_type": "execute_result"
    }
   ],
   "source": [
    "df.sample(5)"
   ]
  },
  {
   "cell_type": "code",
   "execution_count": 10,
   "id": "730c3769",
   "metadata": {},
   "outputs": [],
   "source": [
    "# renaming the cols\n",
    "df.rename(columns={'v1':'Target','v2':'Text'},inplace=True)\n",
    "# OR\n",
    "# df=df.rename({'v1':'Target','v2':'Text'},axis=1)"
   ]
  },
  {
   "cell_type": "code",
   "execution_count": 11,
   "id": "e2a79843",
   "metadata": {},
   "outputs": [
    {
     "name": "stdout",
     "output_type": "stream",
     "text": [
      "<class 'pandas.core.frame.DataFrame'>\n",
      "RangeIndex: 5572 entries, 0 to 5571\n",
      "Data columns (total 2 columns):\n",
      " #   Column  Non-Null Count  Dtype \n",
      "---  ------  --------------  ----- \n",
      " 0   Target  5572 non-null   object\n",
      " 1   Text    5572 non-null   object\n",
      "dtypes: object(2)\n",
      "memory usage: 87.2+ KB\n"
     ]
    }
   ],
   "source": [
    "df.info()"
   ]
  },
  {
   "cell_type": "code",
   "execution_count": 12,
   "id": "77ecd04a",
   "metadata": {},
   "outputs": [],
   "source": [
    "from sklearn.preprocessing import LabelEncoder\n",
    "encoder = LabelEncoder()"
   ]
  },
  {
   "cell_type": "code",
   "execution_count": 13,
   "id": "458eb254",
   "metadata": {},
   "outputs": [],
   "source": [
    "# df['Target'] = encoder.fit_transform(df['Target'])\n",
    "df['Target']=df['Target'].replace({'ham':0,'spam':1})"
   ]
  },
  {
   "cell_type": "code",
   "execution_count": 14,
   "id": "549496ea",
   "metadata": {},
   "outputs": [
    {
     "data": {
      "text/html": [
       "<div>\n",
       "<style scoped>\n",
       "    .dataframe tbody tr th:only-of-type {\n",
       "        vertical-align: middle;\n",
       "    }\n",
       "\n",
       "    .dataframe tbody tr th {\n",
       "        vertical-align: top;\n",
       "    }\n",
       "\n",
       "    .dataframe thead th {\n",
       "        text-align: right;\n",
       "    }\n",
       "</style>\n",
       "<table border=\"1\" class=\"dataframe\">\n",
       "  <thead>\n",
       "    <tr style=\"text-align: right;\">\n",
       "      <th></th>\n",
       "      <th>Target</th>\n",
       "      <th>Text</th>\n",
       "    </tr>\n",
       "  </thead>\n",
       "  <tbody>\n",
       "    <tr>\n",
       "      <th>0</th>\n",
       "      <td>0</td>\n",
       "      <td>Go until jurong point, crazy.. Available only ...</td>\n",
       "    </tr>\n",
       "    <tr>\n",
       "      <th>1</th>\n",
       "      <td>0</td>\n",
       "      <td>Ok lar... Joking wif u oni...</td>\n",
       "    </tr>\n",
       "    <tr>\n",
       "      <th>2</th>\n",
       "      <td>1</td>\n",
       "      <td>Free entry in 2 a wkly comp to win FA Cup fina...</td>\n",
       "    </tr>\n",
       "    <tr>\n",
       "      <th>3</th>\n",
       "      <td>0</td>\n",
       "      <td>U dun say so early hor... U c already then say...</td>\n",
       "    </tr>\n",
       "    <tr>\n",
       "      <th>4</th>\n",
       "      <td>0</td>\n",
       "      <td>Nah I don't think he goes to usf, he lives aro...</td>\n",
       "    </tr>\n",
       "  </tbody>\n",
       "</table>\n",
       "</div>"
      ],
      "text/plain": [
       "   Target                                               Text\n",
       "0       0  Go until jurong point, crazy.. Available only ...\n",
       "1       0                      Ok lar... Joking wif u oni...\n",
       "2       1  Free entry in 2 a wkly comp to win FA Cup fina...\n",
       "3       0  U dun say so early hor... U c already then say...\n",
       "4       0  Nah I don't think he goes to usf, he lives aro..."
      ]
     },
     "execution_count": 14,
     "metadata": {},
     "output_type": "execute_result"
    }
   ],
   "source": [
    "df.head()"
   ]
  },
  {
   "cell_type": "code",
   "execution_count": 15,
   "id": "dac24c48",
   "metadata": {},
   "outputs": [
    {
     "data": {
      "text/plain": [
       "Target    0\n",
       "Text      0\n",
       "dtype: int64"
      ]
     },
     "execution_count": 15,
     "metadata": {},
     "output_type": "execute_result"
    }
   ],
   "source": [
    "# missing values\n",
    "df.isnull().sum()"
   ]
  },
  {
   "cell_type": "code",
   "execution_count": 16,
   "id": "7df86885",
   "metadata": {},
   "outputs": [
    {
     "data": {
      "text/plain": [
       "403"
      ]
     },
     "execution_count": 16,
     "metadata": {},
     "output_type": "execute_result"
    }
   ],
   "source": [
    "# check for duplicate values\n",
    "df.duplicated().sum()"
   ]
  },
  {
   "cell_type": "code",
   "execution_count": 17,
   "id": "c8c598c5",
   "metadata": {},
   "outputs": [],
   "source": [
    "df=df.drop_duplicates(keep='first')"
   ]
  },
  {
   "cell_type": "code",
   "execution_count": 18,
   "id": "1b6133df",
   "metadata": {},
   "outputs": [
    {
     "data": {
      "text/plain": [
       "(5169, 2)"
      ]
     },
     "execution_count": 18,
     "metadata": {},
     "output_type": "execute_result"
    }
   ],
   "source": [
    "# check for duplicate values\n",
    "df.duplicated().sum()\n",
    "df.shape"
   ]
  },
  {
   "cell_type": "markdown",
   "id": "91011aca",
   "metadata": {},
   "source": [
    "## 2. EDA"
   ]
  },
  {
   "cell_type": "code",
   "execution_count": 19,
   "id": "511cf9c2",
   "metadata": {},
   "outputs": [
    {
     "data": {
      "text/plain": [
       "0    4516\n",
       "1     653\n",
       "Name: Target, dtype: int64"
      ]
     },
     "execution_count": 19,
     "metadata": {},
     "output_type": "execute_result"
    }
   ],
   "source": [
    "df['Target'].value_counts()"
   ]
  },
  {
   "cell_type": "code",
   "execution_count": 20,
   "id": "f923b787",
   "metadata": {},
   "outputs": [
    {
     "data": {
      "image/png": "[encoded data removed]",
      "text/plain": [
       "<Figure size 432x288 with 1 Axes>"
      ]
     },
     "metadata": {},
     "output_type": "display_data"
    }
   ],
   "source": [
    "import matplotlib.pyplot as plt\n",
    "plt.pie(df['Target'].value_counts(),labels=['ham','spam'],autopct='%0.2f')\n",
    "plt.show()"
   ]
  },
  {
   "cell_type": "code",
   "execution_count": 21,
   "id": "563c6e24",
   "metadata": {},
   "outputs": [],
   "source": [
    "import nltk"
   ]
  },
  {
   "cell_type": "code",
   "execution_count": 22,
   "id": "169b9663",
   "metadata": {},
   "outputs": [
    {
     "name": "stderr",
     "output_type": "stream",
     "text": [
      "[nltk_data] Downloading package punkt to\n",
      "[nltk_data]     C:\\Users\\gargs\\AppData\\Roaming\\nltk_data...\n",
      "[nltk_data]   Package punkt is already up-to-date!\n"
     ]
    },
    {
     "data": {
      "text/plain": [
       "True"
      ]
     },
     "execution_count": 22,
     "metadata": {},
     "output_type": "execute_result"
    }
   ],
   "source": [
    "nltk.download('punkt')"
   ]
  },
  {
   "cell_type": "code",
   "execution_count": 23,
   "id": "7a260176",
   "metadata": {},
   "outputs": [],
   "source": [
    "df['num_characters'] = df['Text'].apply(len)"
   ]
  },
  {
   "cell_type": "code",
   "execution_count": 24,
   "id": "8c483b9f",
   "metadata": {},
   "outputs": [],
   "source": [
    "# num of words\n",
    "df['num_words'] = df['Text'].apply(lambda x:len(nltk.word_tokenize(x)))"
   ]
  },
  {
   "cell_type": "code",
   "execution_count": 25,
   "id": "9306e5ea",
   "metadata": {},
   "outputs": [],
   "source": [
    "df['num_sentences'] = df['Text'].apply(lambda x:len(nltk.sent_tokenize(x)))"
   ]
  },
  {
   "cell_type": "code",
   "execution_count": 26,
   "id": "12a8b5ff",
   "metadata": {},
   "outputs": [
    {
     "data": {
      "text/html": [
       "<div>\n",
       "<style scoped>\n",
       "    .dataframe tbody tr th:only-of-type {\n",
       "        vertical-align: middle;\n",
       "    }\n",
       "\n",
       "    .dataframe tbody tr th {\n",
       "        vertical-align: top;\n",
       "    }\n",
       "\n",
       "    .dataframe thead th {\n",
       "        text-align: right;\n",
       "    }\n",
       "</style>\n",
       "<table border=\"1\" class=\"dataframe\">\n",
       "  <thead>\n",
       "    <tr style=\"text-align: right;\">\n",
       "      <th></th>\n",
       "      <th>Target</th>\n",
       "      <th>Text</th>\n",
       "      <th>num_characters</th>\n",
       "      <th>num_words</th>\n",
       "      <th>num_sentences</th>\n",
       "    </tr>\n",
       "  </thead>\n",
       "  <tbody>\n",
       "    <tr>\n",
       "      <th>0</th>\n",
       "      <td>0</td>\n",
       "      <td>Go until jurong point, crazy.. Available only ...</td>\n",
       "      <td>111</td>\n",
       "      <td>24</td>\n",
       "      <td>2</td>\n",
       "    </tr>\n",
       "    <tr>\n",
       "      <th>1</th>\n",
       "      <td>0</td>\n",
       "      <td>Ok lar... Joking wif u oni...</td>\n",
       "      <td>29</td>\n",
       "      <td>8</td>\n",
       "      <td>2</td>\n",
       "    </tr>\n",
       "    <tr>\n",
       "      <th>2</th>\n",
       "      <td>1</td>\n",
       "      <td>Free entry in 2 a wkly comp to win FA Cup fina...</td>\n",
       "      <td>155</td>\n",
       "      <td>37</td>\n",
       "      <td>2</td>\n",
       "    </tr>\n",
       "    <tr>\n",
       "      <th>3</th>\n",
       "      <td>0</td>\n",
       "      <td>U dun say so early hor... U c already then say...</td>\n",
       "      <td>49</td>\n",
       "      <td>13</td>\n",
       "      <td>1</td>\n",
       "    </tr>\n",
       "    <tr>\n",
       "      <th>4</th>\n",
       "      <td>0</td>\n",
       "      <td>Nah I don't think he goes to usf, he lives aro...</td>\n",
       "      <td>61</td>\n",
       "      <td>15</td>\n",
       "      <td>1</td>\n",
       "    </tr>\n",
       "  </tbody>\n",
       "</table>\n",
       "</div>"
      ],
      "text/plain": [
       "   Target                                               Text  num_characters  \\\n",
       "0       0  Go until jurong point, crazy.. Available only ...             111   \n",
       "1       0                      Ok lar... Joking wif u oni...              29   \n",
       "2       1  Free entry in 2 a wkly comp to win FA Cup fina...             155   \n",
       "3       0  U dun say so early hor... U c already then say...              49   \n",
       "4       0  Nah I don't think he goes to usf, he lives aro...              61   \n",
       "\n",
       "   num_words  num_sentences  \n",
       "0         24              2  \n",
       "1          8              2  \n",
       "2         37              2  \n",
       "3         13              1  \n",
       "4         15              1  "
      ]
     },
     "execution_count": 26,
     "metadata": {},
     "output_type": "execute_result"
    }
   ],
   "source": [
    "df.head()"
   ]
  },
  {
   "cell_type": "code",
   "execution_count": 27,
   "id": "0bb8000e",
   "metadata": {},
   "outputs": [
    {
     "data": {
      "text/html": [
       "<div>\n",
       "<style scoped>\n",
       "    .dataframe tbody tr th:only-of-type {\n",
       "        vertical-align: middle;\n",
       "    }\n",
       "\n",
       "    .dataframe tbody tr th {\n",
       "        vertical-align: top;\n",
       "    }\n",
       "\n",
       "    .dataframe thead th {\n",
       "        text-align: right;\n",
       "    }\n",
       "</style>\n",
       "<table border=\"1\" class=\"dataframe\">\n",
       "  <thead>\n",
       "    <tr style=\"text-align: right;\">\n",
       "      <th></th>\n",
       "      <th>num_characters</th>\n",
       "      <th>num_words</th>\n",
       "      <th>num_sentences</th>\n",
       "    </tr>\n",
       "  </thead>\n",
       "  <tbody>\n",
       "    <tr>\n",
       "      <th>count</th>\n",
       "      <td>5169.000000</td>\n",
       "      <td>5169.000000</td>\n",
       "      <td>5169.000000</td>\n",
       "    </tr>\n",
       "    <tr>\n",
       "      <th>mean</th>\n",
       "      <td>78.977945</td>\n",
       "      <td>18.453279</td>\n",
       "      <td>1.947185</td>\n",
       "    </tr>\n",
       "    <tr>\n",
       "      <th>std</th>\n",
       "      <td>58.236293</td>\n",
       "      <td>13.324793</td>\n",
       "      <td>1.362406</td>\n",
       "    </tr>\n",
       "    <tr>\n",
       "      <th>min</th>\n",
       "      <td>2.000000</td>\n",
       "      <td>1.000000</td>\n",
       "      <td>1.000000</td>\n",
       "    </tr>\n",
       "    <tr>\n",
       "      <th>25%</th>\n",
       "      <td>36.000000</td>\n",
       "      <td>9.000000</td>\n",
       "      <td>1.000000</td>\n",
       "    </tr>\n",
       "    <tr>\n",
       "      <th>50%</th>\n",
       "      <td>60.000000</td>\n",
       "      <td>15.000000</td>\n",
       "      <td>1.000000</td>\n",
       "    </tr>\n",
       "    <tr>\n",
       "      <th>75%</th>\n",
       "      <td>117.000000</td>\n",
       "      <td>26.000000</td>\n",
       "      <td>2.000000</td>\n",
       "    </tr>\n",
       "    <tr>\n",
       "      <th>max</th>\n",
       "      <td>910.000000</td>\n",
       "      <td>220.000000</td>\n",
       "      <td>28.000000</td>\n",
       "    </tr>\n",
       "  </tbody>\n",
       "</table>\n",
       "</div>"
      ],
      "text/plain": [
       "       num_characters    num_words  num_sentences\n",
       "count     5169.000000  5169.000000    5169.000000\n",
       "mean        78.977945    18.453279       1.947185\n",
       "std         58.236293    13.324793       1.362406\n",
       "min          2.000000     1.000000       1.000000\n",
       "25%         36.000000     9.000000       1.000000\n",
       "50%         60.000000    15.000000       1.000000\n",
       "75%        117.000000    26.000000       2.000000\n",
       "max        910.000000   220.000000      28.000000"
      ]
     },
     "execution_count": 27,
     "metadata": {},
     "output_type": "execute_result"
    }
   ],
   "source": [
    "df[['num_characters','num_words','num_sentences']].describe()"
   ]
  },
  {
   "cell_type": "code",
   "execution_count": 28,
   "id": "6ed28aa9",
   "metadata": {},
   "outputs": [
    {
     "data": {
      "text/html": [
       "<div>\n",
       "<style scoped>\n",
       "    .dataframe tbody tr th:only-of-type {\n",
       "        vertical-align: middle;\n",
       "    }\n",
       "\n",
       "    .dataframe tbody tr th {\n",
       "        vertical-align: top;\n",
       "    }\n",
       "\n",
       "    .dataframe thead th {\n",
       "        text-align: right;\n",
       "    }\n",
       "</style>\n",
       "<table border=\"1\" class=\"dataframe\">\n",
       "  <thead>\n",
       "    <tr style=\"text-align: right;\">\n",
       "      <th></th>\n",
       "      <th>num_characters</th>\n",
       "      <th>num_words</th>\n",
       "      <th>num_sentences</th>\n",
       "    </tr>\n",
       "  </thead>\n",
       "  <tbody>\n",
       "    <tr>\n",
       "      <th>count</th>\n",
       "      <td>4516.000000</td>\n",
       "      <td>4516.000000</td>\n",
       "      <td>4516.000000</td>\n",
       "    </tr>\n",
       "    <tr>\n",
       "      <th>mean</th>\n",
       "      <td>70.459256</td>\n",
       "      <td>17.120903</td>\n",
       "      <td>1.799601</td>\n",
       "    </tr>\n",
       "    <tr>\n",
       "      <th>std</th>\n",
       "      <td>56.358207</td>\n",
       "      <td>13.493725</td>\n",
       "      <td>1.278465</td>\n",
       "    </tr>\n",
       "    <tr>\n",
       "      <th>min</th>\n",
       "      <td>2.000000</td>\n",
       "      <td>1.000000</td>\n",
       "      <td>1.000000</td>\n",
       "    </tr>\n",
       "    <tr>\n",
       "      <th>25%</th>\n",
       "      <td>34.000000</td>\n",
       "      <td>8.000000</td>\n",
       "      <td>1.000000</td>\n",
       "    </tr>\n",
       "    <tr>\n",
       "      <th>50%</th>\n",
       "      <td>52.000000</td>\n",
       "      <td>13.000000</td>\n",
       "      <td>1.000000</td>\n",
       "    </tr>\n",
       "    <tr>\n",
       "      <th>75%</th>\n",
       "      <td>90.000000</td>\n",
       "      <td>22.000000</td>\n",
       "      <td>2.000000</td>\n",
       "    </tr>\n",
       "    <tr>\n",
       "      <th>max</th>\n",
       "      <td>910.000000</td>\n",
       "      <td>220.000000</td>\n",
       "      <td>28.000000</td>\n",
       "    </tr>\n",
       "  </tbody>\n",
       "</table>\n",
       "</div>"
      ],
      "text/plain": [
       "       num_characters    num_words  num_sentences\n",
       "count     4516.000000  4516.000000    4516.000000\n",
       "mean        70.459256    17.120903       1.799601\n",
       "std         56.358207    13.493725       1.278465\n",
       "min          2.000000     1.000000       1.000000\n",
       "25%         34.000000     8.000000       1.000000\n",
       "50%         52.000000    13.000000       1.000000\n",
       "75%         90.000000    22.000000       2.000000\n",
       "max        910.000000   220.000000      28.000000"
      ]
     },
     "execution_count": 28,
     "metadata": {},
     "output_type": "execute_result"
    }
   ],
   "source": [
    "#ham\n",
    "df[df['Target'] == 0][['num_characters','num_words','num_sentences']].describe()"
   ]
  },
  {
   "cell_type": "code",
   "execution_count": 29,
   "id": "9d5284a1",
   "metadata": {},
   "outputs": [
    {
     "data": {
      "text/html": [
       "<div>\n",
       "<style scoped>\n",
       "    .dataframe tbody tr th:only-of-type {\n",
       "        vertical-align: middle;\n",
       "    }\n",
       "\n",
       "    .dataframe tbody tr th {\n",
       "        vertical-align: top;\n",
       "    }\n",
       "\n",
       "    .dataframe thead th {\n",
       "        text-align: right;\n",
       "    }\n",
       "</style>\n",
       "<table border=\"1\" class=\"dataframe\">\n",
       "  <thead>\n",
       "    <tr style=\"text-align: right;\">\n",
       "      <th></th>\n",
       "      <th>num_characters</th>\n",
       "      <th>num_words</th>\n",
       "      <th>num_sentences</th>\n",
       "    </tr>\n",
       "  </thead>\n",
       "  <tbody>\n",
       "    <tr>\n",
       "      <th>count</th>\n",
       "      <td>653.000000</td>\n",
       "      <td>653.000000</td>\n",
       "      <td>653.000000</td>\n",
       "    </tr>\n",
       "    <tr>\n",
       "      <th>mean</th>\n",
       "      <td>137.891271</td>\n",
       "      <td>27.667688</td>\n",
       "      <td>2.967841</td>\n",
       "    </tr>\n",
       "    <tr>\n",
       "      <th>std</th>\n",
       "      <td>30.137753</td>\n",
       "      <td>7.008418</td>\n",
       "      <td>1.483201</td>\n",
       "    </tr>\n",
       "    <tr>\n",
       "      <th>min</th>\n",
       "      <td>13.000000</td>\n",
       "      <td>2.000000</td>\n",
       "      <td>1.000000</td>\n",
       "    </tr>\n",
       "    <tr>\n",
       "      <th>25%</th>\n",
       "      <td>132.000000</td>\n",
       "      <td>25.000000</td>\n",
       "      <td>2.000000</td>\n",
       "    </tr>\n",
       "    <tr>\n",
       "      <th>50%</th>\n",
       "      <td>149.000000</td>\n",
       "      <td>29.000000</td>\n",
       "      <td>3.000000</td>\n",
       "    </tr>\n",
       "    <tr>\n",
       "      <th>75%</th>\n",
       "      <td>157.000000</td>\n",
       "      <td>32.000000</td>\n",
       "      <td>4.000000</td>\n",
       "    </tr>\n",
       "    <tr>\n",
       "      <th>max</th>\n",
       "      <td>224.000000</td>\n",
       "      <td>46.000000</td>\n",
       "      <td>8.000000</td>\n",
       "    </tr>\n",
       "  </tbody>\n",
       "</table>\n",
       "</div>"
      ],
      "text/plain": [
       "       num_characters   num_words  num_sentences\n",
       "count      653.000000  653.000000     653.000000\n",
       "mean       137.891271   27.667688       2.967841\n",
       "std         30.137753    7.008418       1.483201\n",
       "min         13.000000    2.000000       1.000000\n",
       "25%        132.000000   25.000000       2.000000\n",
       "50%        149.000000   29.000000       3.000000\n",
       "75%        157.000000   32.000000       4.000000\n",
       "max        224.000000   46.000000       8.000000"
      ]
     },
     "execution_count": 29,
     "metadata": {},
     "output_type": "execute_result"
    }
   ],
   "source": [
    "#spam\n",
    "df[df['Target'] == 1][['num_characters','num_words','num_sentences']].describe()"
   ]
  },
  {
   "cell_type": "code",
   "execution_count": 30,
   "id": "d4f84815",
   "metadata": {},
   "outputs": [],
   "source": [
    "import seaborn as sns"
   ]
  },
  {
   "cell_type": "code",
   "execution_count": 31,
   "id": "5e77ea69",
   "metadata": {},
   "outputs": [
    {
     "data": {
      "text/plain": [
       "<AxesSubplot:xlabel='num_characters', ylabel='Count'>"
      ]
     },
     "execution_count": 31,
     "metadata": {},
     "output_type": "execute_result"
    },
    {
     "data": {
      "image/png": "[encoded data removed]",
      "text/plain": [
       "<Figure size 864x432 with 1 Axes>"
      ]
     },
     "metadata": {
      "needs_background": "light"
     },
     "output_type": "display_data"
    }
   ],
   "source": [
    "plt.figure(figsize=(12,6))\n",
    "sns.histplot(df[df['Target'] == 0]['num_characters'])\n",
    "sns.histplot(df[df['Target'] == 1]['num_characters'],color='red')"
   ]
  },
  {
   "cell_type": "code",
   "execution_count": 32,
   "id": "b88abd06",
   "metadata": {},
   "outputs": [
    {
     "data": {
      "text/plain": [
       "<AxesSubplot:xlabel='num_words', ylabel='Count'>"
      ]
     },
     "execution_count": 32,
     "metadata": {},
     "output_type": "execute_result"
    },
    {
     "data": {
      "image/png": "[encoded data removed]",
      "text/plain": [
       "<Figure size 864x432 with 1 Axes>"
      ]
     },
     "metadata": {
      "needs_background": "light"
     },
     "output_type": "display_data"
    }
   ],
   "source": [
    "plt.figure(figsize=(12,6))\n",
    "sns.histplot(df[df['Target'] == 0]['num_words'])\n",
    "sns.histplot(df[df['Target'] == 1]['num_words'],color='red')"
   ]
  },
  {
   "cell_type": "code",
   "execution_count": 33,
   "id": "09d78b61",
   "metadata": {},
   "outputs": [
    {
     "data": {
      "text/plain": [
       "<seaborn.axisgrid.PairGrid at 0x2048efab7c0>"
      ]
     },
     "execution_count": 33,
     "metadata": {},
     "output_type": "execute_result"
    },
    {
     "data": {
      "image/png": "[encoded data removed]",
      "text/plain": [
       "<Figure size 582.375x540 with 12 Axes>"
      ]
     },
     "metadata": {
      "needs_background": "light"
     },
     "output_type": "display_data"
    }
   ],
   "source": [
    "sns.pairplot(df,hue='Target')"
   ]
  },
  {
   "cell_type": "code",
   "execution_count": 34,
   "id": "4b556087",
   "metadata": {},
   "outputs": [
    {
     "data": {
      "text/plain": [
       "<AxesSubplot:>"
      ]
     },
     "execution_count": 34,
     "metadata": {},
     "output_type": "execute_result"
    },
    {
     "data": {
      "image/png": "[encoded data removed]",
      "text/plain": [
       "<Figure size 432x288 with 2 Axes>"
      ]
     },
     "metadata": {
      "needs_background": "light"
     },
     "output_type": "display_data"
    }
   ],
   "source": [
    "# Here, the correlation between num_characters is the highest with Target as compared with (Target&&num_words) \n",
    "# and (Target&&num_character)\n",
    "sns.heatmap(df.corr(),annot=True)"
   ]
  },
  {
   "cell_type": "markdown",
   "id": "8e722e69",
   "metadata": {},
   "source": [
    "## 3. Data Preprocessing\n",
    "1. Lower case\n",
    "2. Tokenization\n",
    "3. Removing special characters\n",
    "4. Removing stop words and punctuation\n",
    "5. Stemming"
   ]
  },
  {
   "cell_type": "code",
   "execution_count": 35,
   "id": "0cc44d5b",
   "metadata": {},
   "outputs": [
    {
     "name": "stderr",
     "output_type": "stream",
     "text": [
      "[nltk_data] Downloading package stopwords to\n",
      "[nltk_data]     C:\\Users\\gargs\\AppData\\Roaming\\nltk_data...\n",
      "[nltk_data]   Package stopwords is already up-to-date!\n"
     ]
    }
   ],
   "source": [
    "from nltk.stem import PorterStemmer\n",
    "from nltk.corpus import stopwords\n",
    "from nltk.tokenize import word_tokenize\n",
    "import string\n",
    "\n",
    "nltk.download('stopwords')\n",
    "ps=PorterStemmer()"
   ]
  },
  {
   "cell_type": "code",
   "execution_count": 36,
   "id": "a69d78f9",
   "metadata": {},
   "outputs": [],
   "source": [
    "def transform_text(text):\n",
    "    text=text.lower()\n",
    "    text=nltk.word_tokenize(text)\n",
    "    \n",
    "    # Removing special characters\n",
    "    y=[]\n",
    "    for i in text:\n",
    "        if(i.isalnum()):\n",
    "            y.append(i)\n",
    "        \n",
    "    text=y[:]\n",
    "    y.clear()\n",
    "    \n",
    "    #Removing stopwords like (is, am,are,on...) and punctuation like (!,?....)\n",
    "    for i in text:\n",
    "        if i not in stopwords.words('english') and i not in string.punctuation:\n",
    "            y.append(i)\n",
    "    \n",
    "    text=y[:]\n",
    "    y.clear()\n",
    "    \n",
    "    #Stemming like removing dancing, danced, dancer.....\n",
    "    for i in text:\n",
    "        y.append(ps.stem(i))\n",
    "        \n",
    "    return \" \".join(y)"
   ]
  },
  {
   "cell_type": "code",
   "execution_count": 37,
   "id": "dd78e9cf",
   "metadata": {},
   "outputs": [
    {
     "data": {
      "text/plain": [
       "'gon na home soon want talk stuff anymor tonight k cri enough today'"
      ]
     },
     "execution_count": 37,
     "metadata": {},
     "output_type": "execute_result"
    }
   ],
   "source": [
    "transform_text(\"I'm gonna be home soon and i don't want to talk about this stuff anymore tonight, k? I've cried enough today.\")"
   ]
  },
  {
   "cell_type": "code",
   "execution_count": 38,
   "id": "18e82758",
   "metadata": {},
   "outputs": [],
   "source": [
    "df['Transformed_text'] = df['Text'].apply(transform_text)"
   ]
  },
  {
   "cell_type": "code",
   "execution_count": 39,
   "id": "034a9440",
   "metadata": {},
   "outputs": [
    {
     "data": {
      "text/html": [
       "<div>\n",
       "<style scoped>\n",
       "    .dataframe tbody tr th:only-of-type {\n",
       "        vertical-align: middle;\n",
       "    }\n",
       "\n",
       "    .dataframe tbody tr th {\n",
       "        vertical-align: top;\n",
       "    }\n",
       "\n",
       "    .dataframe thead th {\n",
       "        text-align: right;\n",
       "    }\n",
       "</style>\n",
       "<table border=\"1\" class=\"dataframe\">\n",
       "  <thead>\n",
       "    <tr style=\"text-align: right;\">\n",
       "      <th></th>\n",
       "      <th>Target</th>\n",
       "      <th>Text</th>\n",
       "      <th>num_characters</th>\n",
       "      <th>num_words</th>\n",
       "      <th>num_sentences</th>\n",
       "      <th>Transformed_text</th>\n",
       "    </tr>\n",
       "  </thead>\n",
       "  <tbody>\n",
       "    <tr>\n",
       "      <th>0</th>\n",
       "      <td>0</td>\n",
       "      <td>Go until jurong point, crazy.. Available only ...</td>\n",
       "      <td>111</td>\n",
       "      <td>24</td>\n",
       "      <td>2</td>\n",
       "      <td>go jurong point crazi avail bugi n great world...</td>\n",
       "    </tr>\n",
       "    <tr>\n",
       "      <th>1</th>\n",
       "      <td>0</td>\n",
       "      <td>Ok lar... Joking wif u oni...</td>\n",
       "      <td>29</td>\n",
       "      <td>8</td>\n",
       "      <td>2</td>\n",
       "      <td>ok lar joke wif u oni</td>\n",
       "    </tr>\n",
       "    <tr>\n",
       "      <th>2</th>\n",
       "      <td>1</td>\n",
       "      <td>Free entry in 2 a wkly comp to win FA Cup fina...</td>\n",
       "      <td>155</td>\n",
       "      <td>37</td>\n",
       "      <td>2</td>\n",
       "      <td>free entri 2 wkli comp win fa cup final tkt 21...</td>\n",
       "    </tr>\n",
       "    <tr>\n",
       "      <th>3</th>\n",
       "      <td>0</td>\n",
       "      <td>U dun say so early hor... U c already then say...</td>\n",
       "      <td>49</td>\n",
       "      <td>13</td>\n",
       "      <td>1</td>\n",
       "      <td>u dun say earli hor u c alreadi say</td>\n",
       "    </tr>\n",
       "    <tr>\n",
       "      <th>4</th>\n",
       "      <td>0</td>\n",
       "      <td>Nah I don't think he goes to usf, he lives aro...</td>\n",
       "      <td>61</td>\n",
       "      <td>15</td>\n",
       "      <td>1</td>\n",
       "      <td>nah think goe usf live around though</td>\n",
       "    </tr>\n",
       "  </tbody>\n",
       "</table>\n",
       "</div>"
      ],
      "text/plain": [
       "   Target                                               Text  num_characters  \\\n",
       "0       0  Go until jurong point, crazy.. Available only ...             111   \n",
       "1       0                      Ok lar... Joking wif u oni...              29   \n",
       "2       1  Free entry in 2 a wkly comp to win FA Cup fina...             155   \n",
       "3       0  U dun say so early hor... U c already then say...              49   \n",
       "4       0  Nah I don't think he goes to usf, he lives aro...              61   \n",
       "\n",
       "   num_words  num_sentences                                   Transformed_text  \n",
       "0         24              2  go jurong point crazi avail bugi n great world...  \n",
       "1          8              2                              ok lar joke wif u oni  \n",
       "2         37              2  free entri 2 wkli comp win fa cup final tkt 21...  \n",
       "3         13              1                u dun say earli hor u c alreadi say  \n",
       "4         15              1               nah think goe usf live around though  "
      ]
     },
     "execution_count": 39,
     "metadata": {},
     "output_type": "execute_result"
    }
   ],
   "source": [
    "df.head()"
   ]
  },
  {
   "cell_type": "code",
   "execution_count": 40,
   "id": "abebf03c",
   "metadata": {},
   "outputs": [],
   "source": [
    "from wordcloud import WordCloud\n",
    "wc = WordCloud(width=500,height=500,min_font_size=10,background_color='white')"
   ]
  },
  {
   "cell_type": "code",
   "execution_count": 41,
   "id": "7eabf7f1",
   "metadata": {},
   "outputs": [],
   "source": [
    "#df[df['Target'] == 1]['Transformed_text'].str.cat(sep=\" \")\n",
    "spam_wc = wc.generate(df[df['Target'] == 1]['Transformed_text'].str.cat(sep=\" \"))"
   ]
  },
  {
   "cell_type": "code",
   "execution_count": 42,
   "id": "d8fabeb2",
   "metadata": {},
   "outputs": [
    {
     "data": {
      "text/plain": [
       "<matplotlib.image.AxesImage at 0x2048453fb50>"
      ]
     },
     "execution_count": 42,
     "metadata": {},
     "output_type": "execute_result"
    },
    {
     "data": {
      "image/png": "[encoded data removed]",
      "text/plain": [
       "<Figure size 1080x432 with 1 Axes>"
      ]
     },
     "metadata": {
      "needs_background": "light"
     },
     "output_type": "display_data"
    }
   ],
   "source": [
    "plt.figure(figsize=(15,6))\n",
    "plt.imshow(spam_wc)"
   ]
  },
  {
   "cell_type": "code",
   "execution_count": 43,
   "id": "b02105bf",
   "metadata": {},
   "outputs": [],
   "source": [
    "ham_wc = wc.generate(df[df['Target'] == 0]['Transformed_text'].str.cat(sep=\" \"))"
   ]
  },
  {
   "cell_type": "code",
   "execution_count": 44,
   "id": "3be6a2d9",
   "metadata": {},
   "outputs": [
    {
     "data": {
      "text/plain": [
       "<matplotlib.image.AxesImage at 0x204916a72e0>"
      ]
     },
     "execution_count": 44,
     "metadata": {},
     "output_type": "execute_result"
    },
    {
     "data": {
      "image/png": "[encoded data removed]",
      "text/plain": [
       "<Figure size 1080x432 with 1 Axes>"
      ]
     },
     "metadata": {
      "needs_background": "light"
     },
     "output_type": "display_data"
    }
   ],
   "source": [
    "plt.figure(figsize=(15,6))\n",
    "plt.imshow(ham_wc)"
   ]
  },
  {
   "cell_type": "code",
   "execution_count": 45,
   "id": "02c2ba03",
   "metadata": {},
   "outputs": [],
   "source": [
    "spam_corpus=[]\n",
    "# for msg in df[df['Target'] == 1]['Transformed_text']:\n",
    "#     for word in nltk.word_tokenize(msg):\n",
    "#         spam_corpus.append(word)\n",
    "## OR\n",
    "for msg in df[df['Target'] == 1]['Transformed_text'].tolist():\n",
    "     for word in msg.split():\n",
    "        spam_corpus.append(word)"
   ]
  },
  {
   "cell_type": "code",
   "execution_count": 46,
   "id": "3b11f1e2",
   "metadata": {},
   "outputs": [
    {
     "data": {
      "text/plain": [
       "9939"
      ]
     },
     "execution_count": 46,
     "metadata": {},
     "output_type": "execute_result"
    }
   ],
   "source": [
    "len(spam_corpus)"
   ]
  },
  {
   "cell_type": "code",
   "execution_count": 47,
   "id": "96c645ab",
   "metadata": {},
   "outputs": [
    {
     "data": {
      "text/plain": [
       "Counter({'free': 191,\n",
       "         'entri': 21,\n",
       "         '2': 155,\n",
       "         'wkli': 9,\n",
       "         'comp': 8,\n",
       "         'win': 48,\n",
       "         'fa': 2,\n",
       "         'cup': 3,\n",
       "         'final': 14,\n",
       "         'tkt': 2,\n",
       "         '21st': 1,\n",
       "         'may': 6,\n",
       "         'text': 122,\n",
       "         '87121': 2,\n",
       "         'receiv': 31,\n",
       "         'question': 9,\n",
       "         'std': 6,\n",
       "         'txt': 141,\n",
       "         'rate': 26,\n",
       "         'c': 45,\n",
       "         'appli': 24,\n",
       "         '08452810075over18': 1,\n",
       "         'freemsg': 14,\n",
       "         'hey': 5,\n",
       "         'darl': 2,\n",
       "         '3': 20,\n",
       "         'week': 49,\n",
       "         'word': 21,\n",
       "         'back': 20,\n",
       "         'like': 12,\n",
       "         'fun': 8,\n",
       "         'still': 5,\n",
       "         'tb': 1,\n",
       "         'ok': 5,\n",
       "         'xxx': 10,\n",
       "         'chg': 2,\n",
       "         'send': 60,\n",
       "         'rcv': 2,\n",
       "         'winner': 13,\n",
       "         'valu': 8,\n",
       "         'network': 26,\n",
       "         'custom': 42,\n",
       "         'select': 26,\n",
       "         'receivea': 1,\n",
       "         'prize': 82,\n",
       "         'reward': 9,\n",
       "         'claim': 98,\n",
       "         'call': 320,\n",
       "         'code': 27,\n",
       "         'kl341': 1,\n",
       "         'valid': 21,\n",
       "         '12': 3,\n",
       "         'hour': 4,\n",
       "         'mobil': 114,\n",
       "         '11': 3,\n",
       "         'month': 5,\n",
       "         'u': 119,\n",
       "         'r': 24,\n",
       "         'entitl': 6,\n",
       "         'updat': 14,\n",
       "         'latest': 30,\n",
       "         'colour': 14,\n",
       "         'camera': 23,\n",
       "         'co': 3,\n",
       "         '08002986030': 1,\n",
       "         'six': 2,\n",
       "         'chanc': 22,\n",
       "         'cash': 51,\n",
       "         '100': 14,\n",
       "         'pound': 19,\n",
       "         'csh11': 1,\n",
       "         'cost': 24,\n",
       "         '6day': 1,\n",
       "         'tsandc': 1,\n",
       "         'repli': 103,\n",
       "         'hl': 3,\n",
       "         '4': 97,\n",
       "         'info': 11,\n",
       "         'urgent': 57,\n",
       "         '1': 28,\n",
       "         'membership': 1,\n",
       "         'jackpot': 1,\n",
       "         '81010': 1,\n",
       "         'lccltd': 1,\n",
       "         'pobox': 11,\n",
       "         '4403ldnw1a7rw18': 1,\n",
       "         'xxxmobilemovieclub': 1,\n",
       "         'use': 12,\n",
       "         'credit': 18,\n",
       "         'click': 5,\n",
       "         'wap': 9,\n",
       "         'link': 6,\n",
       "         'next': 16,\n",
       "         'messag': 42,\n",
       "         'http': 18,\n",
       "         'england': 7,\n",
       "         'v': 4,\n",
       "         'macedonia': 1,\n",
       "         'dont': 9,\n",
       "         'miss': 8,\n",
       "         'news': 8,\n",
       "         'ur': 119,\n",
       "         'nation': 11,\n",
       "         'team': 2,\n",
       "         '87077': 8,\n",
       "         'eg': 11,\n",
       "         'tri': 37,\n",
       "         'wale': 1,\n",
       "         'scotland': 1,\n",
       "         'poboxox36504w45wq': 1,\n",
       "         'thank': 16,\n",
       "         'subscript': 5,\n",
       "         'rington': 30,\n",
       "         'uk': 20,\n",
       "         'charg': 22,\n",
       "         'pleas': 51,\n",
       "         'confirm': 1,\n",
       "         'ye': 12,\n",
       "         '07732584351': 1,\n",
       "         'rodger': 1,\n",
       "         'burn': 1,\n",
       "         'msg': 35,\n",
       "         'sm': 22,\n",
       "         'nokia': 57,\n",
       "         'camcord': 15,\n",
       "         '08000930705': 16,\n",
       "         'deliveri': 18,\n",
       "         'tomorrow': 10,\n",
       "         'ac': 4,\n",
       "         'sptv': 2,\n",
       "         'new': 64,\n",
       "         'jersey': 1,\n",
       "         'devil': 1,\n",
       "         'detroit': 1,\n",
       "         'red': 1,\n",
       "         'wing': 1,\n",
       "         'play': 14,\n",
       "         'ice': 1,\n",
       "         'hockey': 1,\n",
       "         'correct': 4,\n",
       "         'incorrect': 1,\n",
       "         'end': 24,\n",
       "         'congrat': 6,\n",
       "         'year': 9,\n",
       "         'special': 16,\n",
       "         'cinema': 2,\n",
       "         'pass': 5,\n",
       "         '09061209465': 2,\n",
       "         'suprman': 2,\n",
       "         'matrix3': 2,\n",
       "         'starwars3': 2,\n",
       "         'etc': 6,\n",
       "         '150pm': 4,\n",
       "         'advis': 2,\n",
       "         'follow': 10,\n",
       "         'recent': 4,\n",
       "         'review': 3,\n",
       "         'mob': 20,\n",
       "         'award': 55,\n",
       "         'bonu': 17,\n",
       "         '09066364589': 1,\n",
       "         'complimentari': 11,\n",
       "         'trip': 3,\n",
       "         'eurodisinc': 1,\n",
       "         'trav': 1,\n",
       "         'aco': 1,\n",
       "         'entry41': 1,\n",
       "         'di': 1,\n",
       "         'morefrmmob': 1,\n",
       "         'shracomorsglsuplt': 1,\n",
       "         '10': 7,\n",
       "         'ls1': 1,\n",
       "         '3aj': 1,\n",
       "         'hear': 3,\n",
       "         'come': 5,\n",
       "         'ken': 1,\n",
       "         'stuff': 1,\n",
       "         'servic': 64,\n",
       "         'repres': 6,\n",
       "         '0800': 9,\n",
       "         '169': 1,\n",
       "         '6031': 1,\n",
       "         'guarante': 42,\n",
       "         'wait': 17,\n",
       "         'collect': 45,\n",
       "         'simpli': 2,\n",
       "         'password': 2,\n",
       "         '85069': 1,\n",
       "         'verifi': 2,\n",
       "         'get': 74,\n",
       "         'usher': 1,\n",
       "         'britney': 1,\n",
       "         'fml': 1,\n",
       "         'gent': 2,\n",
       "         'contact': 56,\n",
       "         'last': 12,\n",
       "         'weekend': 13,\n",
       "         'draw': 35,\n",
       "         'show': 33,\n",
       "         'k52': 3,\n",
       "         '12hr': 16,\n",
       "         '150ppm': 29,\n",
       "         'holiday': 27,\n",
       "         'flight': 6,\n",
       "         'inc': 7,\n",
       "         'speak': 7,\n",
       "         'live': 22,\n",
       "         'oper': 11,\n",
       "         'privat': 16,\n",
       "         '2004': 7,\n",
       "         'account': 18,\n",
       "         'statement': 15,\n",
       "         '07742676969': 1,\n",
       "         '786': 3,\n",
       "         'unredeem': 3,\n",
       "         'point': 15,\n",
       "         '08719180248': 1,\n",
       "         'identifi': 15,\n",
       "         '45239': 2,\n",
       "         'expir': 17,\n",
       "         'caller': 12,\n",
       "         'landlin': 30,\n",
       "         '09064019788': 1,\n",
       "         'box42wr29c': 1,\n",
       "         'today': 33,\n",
       "         'voda': 5,\n",
       "         'number': 35,\n",
       "         '7548': 1,\n",
       "         '350': 2,\n",
       "         'match': 14,\n",
       "         '08712300220': 6,\n",
       "         'quot': 6,\n",
       "         '4041': 1,\n",
       "         'standard': 6,\n",
       "         'app': 4,\n",
       "         'sunshin': 5,\n",
       "         'quiz': 9,\n",
       "         'q': 2,\n",
       "         'top': 14,\n",
       "         'soni': 5,\n",
       "         'dvd': 5,\n",
       "         'player': 10,\n",
       "         'know': 19,\n",
       "         'countri': 2,\n",
       "         'algarv': 1,\n",
       "         'ansr': 2,\n",
       "         'sp': 6,\n",
       "         'tyron': 2,\n",
       "         'want': 31,\n",
       "         'laid': 4,\n",
       "         'tonight': 3,\n",
       "         'real': 12,\n",
       "         'dog': 12,\n",
       "         'locat': 5,\n",
       "         'sent': 10,\n",
       "         'direct': 10,\n",
       "         'join': 18,\n",
       "         'largest': 4,\n",
       "         'bt': 5,\n",
       "         'txting': 7,\n",
       "         'gravel': 1,\n",
       "         '69888': 2,\n",
       "         'nt': 1,\n",
       "         'ec2a': 4,\n",
       "         '150p': 26,\n",
       "         'chat': 38,\n",
       "         'svc': 1,\n",
       "         'hardcor': 2,\n",
       "         'go': 32,\n",
       "         '69988': 1,\n",
       "         'noth': 4,\n",
       "         'must': 5,\n",
       "         'age': 9,\n",
       "         'yr': 14,\n",
       "         'randi': 2,\n",
       "         'sexi': 14,\n",
       "         'femal': 1,\n",
       "         'local': 5,\n",
       "         'luv': 5,\n",
       "         'netcollex': 4,\n",
       "         'ltd': 11,\n",
       "         '08700621170150p': 2,\n",
       "         'per': 41,\n",
       "         'stop': 104,\n",
       "         'annonc': 1,\n",
       "         '07046744435': 1,\n",
       "         'arrang': 2,\n",
       "         '0871277810810': 1,\n",
       "         'bootydeli': 1,\n",
       "         'invit': 10,\n",
       "         'friend': 13,\n",
       "         'see': 16,\n",
       "         'frnd': 5,\n",
       "         '62468': 5,\n",
       "         'bangbab': 1,\n",
       "         'order': 17,\n",
       "         'way': 1,\n",
       "         'download': 7,\n",
       "         'content': 14,\n",
       "         'goto': 5,\n",
       "         'bangb': 1,\n",
       "         'tv': 3,\n",
       "         'menu': 1,\n",
       "         's89': 1,\n",
       "         'freephon': 4,\n",
       "         '0808': 1,\n",
       "         '145': 1,\n",
       "         '4742': 1,\n",
       "         'uniqu': 2,\n",
       "         'enough': 2,\n",
       "         'find': 21,\n",
       "         '30th': 1,\n",
       "         'august': 2,\n",
       "         '500': 19,\n",
       "         '89545': 3,\n",
       "         '2optout': 4,\n",
       "         'meet': 5,\n",
       "         'dream': 2,\n",
       "         'partner': 5,\n",
       "         'soon': 2,\n",
       "         'career': 1,\n",
       "         'flyng': 1,\n",
       "         'start': 12,\n",
       "         'horo': 2,\n",
       "         'star': 3,\n",
       "         'sign': 2,\n",
       "         'ari': 1,\n",
       "         'someon': 13,\n",
       "         'date': 26,\n",
       "         'even': 7,\n",
       "         'flirt': 5,\n",
       "         '10p': 13,\n",
       "         'name': 15,\n",
       "         'sam': 2,\n",
       "         '25': 3,\n",
       "         '18': 20,\n",
       "         'recd': 3,\n",
       "         'thirtyeight': 1,\n",
       "         'penc': 3,\n",
       "         '447801259231': 1,\n",
       "         'secret': 7,\n",
       "         'admir': 7,\n",
       "         'look': 9,\n",
       "         'make': 11,\n",
       "         'reveal': 12,\n",
       "         'think': 11,\n",
       "         '09058094597': 1,\n",
       "         'congratul': 12,\n",
       "         'cd': 11,\n",
       "         'voucher': 28,\n",
       "         '125gift': 2,\n",
       "         'music': 15,\n",
       "         '87066': 10,\n",
       "         'tnc': 7,\n",
       "         'offer': 33,\n",
       "         'video': 29,\n",
       "         'handset': 6,\n",
       "         '750': 17,\n",
       "         'anytim': 12,\n",
       "         'min': 45,\n",
       "         'unlimit': 10,\n",
       "         'realli': 1,\n",
       "         'horni': 7,\n",
       "         'nake': 1,\n",
       "         'hot': 13,\n",
       "         '69698': 2,\n",
       "         'unsubscrib': 17,\n",
       "         'chang': 1,\n",
       "         'choos': 9,\n",
       "         'club': 19,\n",
       "         '87070': 1,\n",
       "         'club4': 1,\n",
       "         'po': 24,\n",
       "         'box1146': 1,\n",
       "         'mk45': 1,\n",
       "         '2wt': 1,\n",
       "         'singl': 5,\n",
       "         'chart': 3,\n",
       "         'qualiti': 2,\n",
       "         'hmv': 4,\n",
       "         'genuin': 1,\n",
       "         'answer': 6,\n",
       "         'easi': 10,\n",
       "         '86688': 14,\n",
       "         'phone': 52,\n",
       "         'upgrad': 4,\n",
       "         'pay': 2,\n",
       "         'sim': 2,\n",
       "         'card': 4,\n",
       "         'loyalti': 6,\n",
       "         '0845': 3,\n",
       "         '021': 2,\n",
       "         'blind': 2,\n",
       "         '4u': 4,\n",
       "         'rodds1': 1,\n",
       "         'aberdeen': 1,\n",
       "         'unit': 1,\n",
       "         'kingdom': 1,\n",
       "         'check': 4,\n",
       "         'hide': 1,\n",
       "         'themob': 5,\n",
       "         'newest': 3,\n",
       "         'game': 20,\n",
       "         'tone': 63,\n",
       "         'gossip': 1,\n",
       "         'babe': 10,\n",
       "         'sport': 7,\n",
       "         'keep': 5,\n",
       "         'fit': 1,\n",
       "         'funki': 1,\n",
       "         '82468': 2,\n",
       "         'smart': 2,\n",
       "         'weekli': 20,\n",
       "         '85222': 1,\n",
       "         'cs': 35,\n",
       "         'winnersclub': 1,\n",
       "         'box': 26,\n",
       "         '84': 1,\n",
       "         'm26': 3,\n",
       "         '3uz': 3,\n",
       "         'decemb': 4,\n",
       "         '08002986906': 3,\n",
       "         'germani': 3,\n",
       "         'minut': 12,\n",
       "         'fix': 2,\n",
       "         'line': 33,\n",
       "         'via': 3,\n",
       "         'access': 8,\n",
       "         '0844': 2,\n",
       "         '861': 2,\n",
       "         '85': 2,\n",
       "         'prepay': 2,\n",
       "         'valentin': 3,\n",
       "         'day': 26,\n",
       "         'take': 16,\n",
       "         'lifetim': 2,\n",
       "         '83600': 3,\n",
       "         'rcvd': 5,\n",
       "         'fanci': 12,\n",
       "         'shag': 2,\n",
       "         'xxuk': 1,\n",
       "         'suzi': 1,\n",
       "         'websit': 1,\n",
       "         'x': 8,\n",
       "         'current': 11,\n",
       "         'maxim': 7,\n",
       "         'cc': 6,\n",
       "         '08708800282': 1,\n",
       "         'xma': 15,\n",
       "         'motorola': 10,\n",
       "         'sonyericsson': 5,\n",
       "         'bluetooth': 7,\n",
       "         'doubl': 13,\n",
       "         '1000': 9,\n",
       "         'orang': 24,\n",
       "         'mobileupd8': 13,\n",
       "         '08000839402': 12,\n",
       "         'discount': 6,\n",
       "         'rp176781': 1,\n",
       "         '08717205546': 1,\n",
       "         'refer': 4,\n",
       "         't91': 1,\n",
       "         'gbp': 1,\n",
       "         '09057039994': 1,\n",
       "         '6month': 1,\n",
       "         'avail': 2,\n",
       "         '4mth': 2,\n",
       "         'half': 12,\n",
       "         'price': 15,\n",
       "         'rental': 11,\n",
       "         '11mth': 3,\n",
       "         'mobilesdirect': 2,\n",
       "         '08000938767': 2,\n",
       "         'or2stoptxt': 2,\n",
       "         'first': 6,\n",
       "         '87131': 3,\n",
       "         'poli': 22,\n",
       "         'true': 2,\n",
       "         'help': 12,\n",
       "         '2814032': 1,\n",
       "         '16': 18,\n",
       "         '1st': 19,\n",
       "         'cal': 1,\n",
       "         'l': 1,\n",
       "         '09064012103': 1,\n",
       "         'box334sk38ch': 2,\n",
       "         'competit': 2,\n",
       "         '80086': 2,\n",
       "         'logo': 6,\n",
       "         'lover': 2,\n",
       "         'heart': 3,\n",
       "         'love': 10,\n",
       "         'name1': 2,\n",
       "         'name2': 2,\n",
       "         'mobno': 2,\n",
       "         'adam': 2,\n",
       "         'eve': 5,\n",
       "         '07123456789': 2,\n",
       "         'yahoo': 2,\n",
       "         'pobox36504w45wq': 5,\n",
       "         'txtno': 2,\n",
       "         'ad': 4,\n",
       "         'enter': 15,\n",
       "         '09111032124': 1,\n",
       "         'pobox12n146tf150p': 1,\n",
       "         '09058094455': 1,\n",
       "         'land': 16,\n",
       "         '3650': 1,\n",
       "         '09066382422': 1,\n",
       "         'ave': 2,\n",
       "         '3min': 3,\n",
       "         'vari': 4,\n",
       "         'close': 3,\n",
       "         '300603': 1,\n",
       "         'post': 4,\n",
       "         'bcm4284': 1,\n",
       "         'ldn': 7,\n",
       "         'wc1n3xx': 3,\n",
       "         'loan': 3,\n",
       "         'purpos': 2,\n",
       "         'homeown': 1,\n",
       "         'tenant': 2,\n",
       "         'welcom': 8,\n",
       "         'previous': 1,\n",
       "         'refus': 2,\n",
       "         '1956669': 1,\n",
       "         'upgrdcentr': 1,\n",
       "         '0207': 2,\n",
       "         '153': 2,\n",
       "         '26th': 1,\n",
       "         'juli': 2,\n",
       "         'okmail': 1,\n",
       "         'dear': 16,\n",
       "         'dave': 2,\n",
       "         'notic': 3,\n",
       "         'tenerif': 7,\n",
       "         '5000': 4,\n",
       "         '09061743806': 2,\n",
       "         'tc': 7,\n",
       "         'sae': 18,\n",
       "         'box326': 2,\n",
       "         'cw25wx': 4,\n",
       "         'moan': 1,\n",
       "         '69888nyt': 1,\n",
       "         'activ': 5,\n",
       "         'term': 8,\n",
       "         'condit': 4,\n",
       "         'visit': 5,\n",
       "         '09050002311': 1,\n",
       "         'b4280703': 1,\n",
       "         '40gb': 6,\n",
       "         'ipod': 10,\n",
       "         'mp3': 5,\n",
       "         '83355': 4,\n",
       "         'ibhltd': 3,\n",
       "         'ldnw15h': 3,\n",
       "         'boltblu': 1,\n",
       "         'mono': 4,\n",
       "         'poly3': 1,\n",
       "         'cha': 2,\n",
       "         'slide': 1,\n",
       "         'yeah': 1,\n",
       "         'slow': 1,\n",
       "         'jamz': 1,\n",
       "         'toxic': 1,\n",
       "         'renew': 3,\n",
       "         'pin': 1,\n",
       "         'tgxxrz': 1,\n",
       "         '2nd': 19,\n",
       "         'attempt': 22,\n",
       "         'box95qu': 3,\n",
       "         'worth': 8,\n",
       "         '85023': 4,\n",
       "         'savamob': 8,\n",
       "         'member': 6,\n",
       "         'sub': 5,\n",
       "         'unsub': 3,\n",
       "         'reciev': 1,\n",
       "         'within': 4,\n",
       "         '24hr': 2,\n",
       "         'channel': 1,\n",
       "         'teletext': 1,\n",
       "         'pg': 1,\n",
       "         '2003': 13,\n",
       "         '07815296484': 1,\n",
       "         '800': 13,\n",
       "         '08718738001': 2,\n",
       "         '41782': 1,\n",
       "         'monthlysubscript': 1,\n",
       "         'csc': 1,\n",
       "         'web': 2,\n",
       "         'age16': 6,\n",
       "         '2stop': 1,\n",
       "         'call09050000327': 2,\n",
       "         'us': 7,\n",
       "         'ring': 5,\n",
       "         '09050005321': 1,\n",
       "         '150': 9,\n",
       "         'textand': 1,\n",
       "         '08002988890': 1,\n",
       "         'shop': 10,\n",
       "         'spree': 6,\n",
       "         'custcar': 7,\n",
       "         '08715705022': 3,\n",
       "         '2000': 2,\n",
       "         '08712402050': 2,\n",
       "         '10ppm': 2,\n",
       "         'ag': 2,\n",
       "         'promo': 2,\n",
       "         '07753741225': 1,\n",
       "         '08715203677': 1,\n",
       "         '42478': 1,\n",
       "         'import': 11,\n",
       "         'announc': 5,\n",
       "         '542': 3,\n",
       "         '0825': 1,\n",
       "         'xclusiv': 1,\n",
       "         'clubsaisai': 1,\n",
       "         '2morow': 1,\n",
       "         'soire': 1,\n",
       "         'zouk': 1,\n",
       "         'nichol': 1,\n",
       "         'rose': 1,\n",
       "         'ladi': 3,\n",
       "         '22': 1,\n",
       "         'kick': 3,\n",
       "         'euro2004': 3,\n",
       "         'kept': 2,\n",
       "         'result': 2,\n",
       "         'daili': 3,\n",
       "         'remov': 7,\n",
       "         '83222': 2,\n",
       "         'textbuddi': 2,\n",
       "         'guy': 5,\n",
       "         'area': 8,\n",
       "         '25p': 7,\n",
       "         'search': 2,\n",
       "         'postcod': 3,\n",
       "         'one': 10,\n",
       "         '89693': 2,\n",
       "         'vodafon': 5,\n",
       "         '4882': 1,\n",
       "         '09064019014': 1,\n",
       "         'holder': 6,\n",
       "         'pc': 6,\n",
       "         'ts': 9,\n",
       "         '80062': 5,\n",
       "         '08715203694': 1,\n",
       "         '40533': 2,\n",
       "         'rstm': 2,\n",
       "         'sw7': 2,\n",
       "         '3ss': 2,\n",
       "         '88800': 1,\n",
       "         '89034': 1,\n",
       "         'premium': 2,\n",
       "         '08718711108': 1,\n",
       "         'sun0819': 1,\n",
       "         'hello': 4,\n",
       "         'seem': 1,\n",
       "         'cool': 1,\n",
       "         'gr8': 7,\n",
       "         '20': 3,\n",
       "         'everi': 26,\n",
       "         'wk': 17,\n",
       "         'opt': 10,\n",
       "         '08452810071': 1,\n",
       "         'hi': 15,\n",
       "         'sue': 2,\n",
       "         'old': 2,\n",
       "         'work': 3,\n",
       "         'lapdanc': 1,\n",
       "         'sex': 10,\n",
       "         'bedroom': 1,\n",
       "         'textoper': 3,\n",
       "         'g2': 1,\n",
       "         '1da': 1,\n",
       "         '150ppmsg': 1,\n",
       "         'forward': 4,\n",
       "         '448712404000': 1,\n",
       "         '08712404000': 1,\n",
       "         'immedi': 5,\n",
       "         'fantast': 7,\n",
       "         'deck': 1,\n",
       "         'alert': 5,\n",
       "         '08714712388': 1,\n",
       "         '09071512433': 2,\n",
       "         'b4': 6,\n",
       "         '050703': 2,\n",
       "         'csbcm4235wc1n3xx': 2,\n",
       "         'callcost': 2,\n",
       "         'mobilesvari': 2,\n",
       "         '50': 3,\n",
       "         '08714712394': 1,\n",
       "         'email': 2,\n",
       "         'alertfrom': 1,\n",
       "         'jeri': 1,\n",
       "         'stewarts': 1,\n",
       "         '2kbsubject': 1,\n",
       "         'prescripiton': 1,\n",
       "         'drvgsto': 1,\n",
       "         'listen': 3,\n",
       "         '123': 1,\n",
       "         'nokia6650': 2,\n",
       "         'txtauction': 5,\n",
       "         '81151': 2,\n",
       "         '4t': 3,\n",
       "         'ctxt': 2,\n",
       "         'subscrib': 9,\n",
       "         'best': 7,\n",
       "         'helplin': 2,\n",
       "         '08706091795': 2,\n",
       "         'realiz': 1,\n",
       "         '40': 2,\n",
       "         'thousand': 1,\n",
       "         'run': 1,\n",
       "         'around': 2,\n",
       "         'tattoo': 1,\n",
       "         'premier': 2,\n",
       "         'romant': 1,\n",
       "         'pari': 3,\n",
       "         'night': 7,\n",
       "         'book': 6,\n",
       "         '08704439680t': 1,\n",
       "         'unclaim': 1,\n",
       "         '09066368327': 1,\n",
       "         'claimcod': 1,\n",
       "         'm39m51': 1,\n",
       "         'citi': 3,\n",
       "         'break': 5,\n",
       "         'could': 7,\n",
       "         'summer': 7,\n",
       "         'store': 7,\n",
       "         '88039': 2,\n",
       "         'skilgm': 3,\n",
       "         'tscs087147403231winawk': 2,\n",
       "         '0578': 2,\n",
       "         'ever': 3,\n",
       "         'thought': 1,\n",
       "         'good': 12,\n",
       "         'life': 3,\n",
       "         'perfect': 1,\n",
       "         'commun': 2,\n",
       "         '5': 8,\n",
       "         'polyphon': 4,\n",
       "         '087018728737': 1,\n",
       "         'toppoli': 1,\n",
       "         'tune': 1,\n",
       "         'subpoli': 2,\n",
       "         '81618': 1,\n",
       "         'pole': 1,\n",
       "         '08718727870': 2,\n",
       "         '14thmarch': 1,\n",
       "         'availa': 1,\n",
       "         'pobox84': 4,\n",
       "         'm263uz': 2,\n",
       "         'no1': 5,\n",
       "         '8077': 1,\n",
       "         'tell': 13,\n",
       "         'mate': 8,\n",
       "         '36504': 4,\n",
       "         'w45wq': 3,\n",
       "         'cashto': 2,\n",
       "         '08000407165': 2,\n",
       "         'getstop': 2,\n",
       "         '88222': 2,\n",
       "         'php': 2,\n",
       "         'rg21': 1,\n",
       "         '4jx': 1,\n",
       "         'either': 8,\n",
       "         'gift': 16,\n",
       "         'outbid': 1,\n",
       "         'simonwatson5120': 1,\n",
       "         'shinco': 1,\n",
       "         'plyr': 1,\n",
       "         'bid': 8,\n",
       "         'notif': 1,\n",
       "         'smsservic': 1,\n",
       "         'yourinclus': 1,\n",
       "         'pl': 8,\n",
       "         '3qxj9': 3,\n",
       "         'extra': 6,\n",
       "         '9ae': 3,\n",
       "         'alfi': 3,\n",
       "         'moon': 3,\n",
       "         'children': 3,\n",
       "         'need': 11,\n",
       "         'song': 3,\n",
       "         'm8': 4,\n",
       "         'chariti': 9,\n",
       "         '8007': 19,\n",
       "         'zed': 6,\n",
       "         '08701417012': 3,\n",
       "         'profit': 3,\n",
       "         'cust': 3,\n",
       "         'care': 6,\n",
       "         '07821230901': 1,\n",
       "         'five': 3,\n",
       "         '08002888812': 2,\n",
       "         'wed': 2,\n",
       "         '09066350750': 2,\n",
       "         'ibiza': 4,\n",
       "         'await': 24,\n",
       "         '434': 3,\n",
       "         'sk3': 3,\n",
       "         '8wp': 3,\n",
       "         'ppm': 4,\n",
       "         'talk': 5,\n",
       "         'fall': 1,\n",
       "         'world': 2,\n",
       "         'discreet': 2,\n",
       "         'vip': 4,\n",
       "         '83110': 1,\n",
       "         'suppli': 2,\n",
       "         'virgin': 2,\n",
       "         'record': 6,\n",
       "         'mysteri': 1,\n",
       "         '09061104283': 1,\n",
       "         'approx': 1,\n",
       "         '07808': 1,\n",
       "         'xxxxxx': 1,\n",
       "         '08719899217': 1,\n",
       "         '41685': 2,\n",
       "         'posh': 1,\n",
       "         'bird': 1,\n",
       "         'chap': 1,\n",
       "         'user': 8,\n",
       "         'trial': 1,\n",
       "         'prod': 1,\n",
       "         'champney': 1,\n",
       "         'put': 1,\n",
       "         'address': 3,\n",
       "         'dob': 1,\n",
       "         'asap': 6,\n",
       "         'ta': 1,\n",
       "         '0721072': 1,\n",
       "         'till': 2,\n",
       "         'drop': 1,\n",
       "         '10k': 2,\n",
       "         '5k': 1,\n",
       "         'travel': 1,\n",
       "         'ntt': 7,\n",
       "         'cr01327bt': 1,\n",
       "         'fixedlin': 1,\n",
       "         'liverpool': 2,\n",
       "         'mid': 1,\n",
       "         '09058094565': 2,\n",
       "         'remind': 2,\n",
       "         'alreadi': 1,\n",
       "         'paid': 1,\n",
       "         'mymobi': 1,\n",
       "         'lastest': 1,\n",
       "         'stereophon': 1,\n",
       "         'marley': 1,\n",
       "         'dizze': 1,\n",
       "         'racal': 1,\n",
       "         'libertin': 1,\n",
       "         'stroke': 1,\n",
       "         'nookii': 1,\n",
       "         'bookmark': 1,\n",
       "         'januari': 1,\n",
       "         'male': 3,\n",
       "         'sale': 4,\n",
       "         'gay': 6,\n",
       "         'cheaper': 2,\n",
       "         'cheap': 3,\n",
       "         'peak': 2,\n",
       "         '08712460324': 8,\n",
       "         'money': 4,\n",
       "         'lucki': 8,\n",
       "         '88600': 2,\n",
       "         'give': 8,\n",
       "         'away': 4,\n",
       "         'box403': 1,\n",
       "         'w1t1ji': 1,\n",
       "         'matthew': 1,\n",
       "         '09063440451': 1,\n",
       "         'lux': 2,\n",
       "         'ppm150': 1,\n",
       "         'box334': 1,\n",
       "         'sk38xh': 4,\n",
       "         '09061749602': 1,\n",
       "         '528': 1,\n",
       "         'hp20': 1,\n",
       "         '1yf': 1,\n",
       "         'touch': 1,\n",
       "         'folk': 1,\n",
       "         'compani': 3,\n",
       "         'enjoy': 12,\n",
       "         '08718720201': 5,\n",
       "         'filthi': 2,\n",
       "         'stori': 1,\n",
       "         'girl': 9,\n",
       "         '09050001808': 1,\n",
       "         'm95': 1,\n",
       "         'valid12hr': 2,\n",
       "         '3g': 3,\n",
       "         'videophon': 3,\n",
       "         '09063458130': 2,\n",
       "         'videochat': 3,\n",
       "         'wid': 3,\n",
       "         'java': 3,\n",
       "         'dload': 3,\n",
       "         'polyph': 2,\n",
       "         'nolin': 3,\n",
       "         'rentl': 3,\n",
       "         'panason': 1,\n",
       "         'bluetoothhdset': 1,\n",
       "         'doublemin': 1,\n",
       "         'doubletxt': 1,\n",
       "         'contract': 4,\n",
       "         'guess': 6,\n",
       "         'somebodi': 2,\n",
       "         'secretli': 2,\n",
       "         'wan': 11,\n",
       "         'na': 10,\n",
       "         '09065394514': 1,\n",
       "         'datebox1282essexcm61xn': 2,\n",
       "         '09058097218': 1,\n",
       "         '6': 5,\n",
       "         'ls15hb': 2,\n",
       "         'bloke': 1,\n",
       "         'zoe': 1,\n",
       "         'kickoff': 1,\n",
       "         'inform': 9,\n",
       "         'euro': 2,\n",
       "         'eastend': 1,\n",
       "         'flower': 2,\n",
       "         'dot': 1,\n",
       "         'compar': 1,\n",
       "         'violet': 1,\n",
       "         'tulip': 1,\n",
       "         'lili': 1,\n",
       "         'e': 1,\n",
       "         'f': 3,\n",
       "         '84025': 2,\n",
       "         'lot': 2,\n",
       "         'peopl': 3,\n",
       "         'regist': 5,\n",
       "         'replys150': 1,\n",
       "         'ask': 5,\n",
       "         'cant': 3,\n",
       "         '09058091854': 1,\n",
       "         'box385': 1,\n",
       "         'm6': 1,\n",
       "         '6wu': 1,\n",
       "         '09050003091': 2,\n",
       "         'c52': 2,\n",
       "         'xchat': 5,\n",
       "         'sipix': 3,\n",
       "         'digit': 6,\n",
       "         '09061221061': 1,\n",
       "         '28day': 1,\n",
       "         'box177': 1,\n",
       "         'm221bp': 1,\n",
       "         '2yr': 1,\n",
       "         'warranti': 1,\n",
       "         'p': 2,\n",
       "         '09061790121': 2,\n",
       "         '3030': 1,\n",
       "         'b': 10,\n",
       "         'receipt': 3,\n",
       "         'an': 6,\n",
       "         'elvi': 1,\n",
       "         'presley': 1,\n",
       "         'birthday': 1,\n",
       "         'o2': 5,\n",
       "         'log': 7,\n",
       "         'onto': 7,\n",
       "         'surpris': 5,\n",
       "         '449050000301': 1,\n",
       "         '09050000301': 1,\n",
       "         'bore': 3,\n",
       "         'speed': 1,\n",
       "         'speedchat': 2,\n",
       "         '80155': 1,\n",
       "         'em': 1,\n",
       "         'swap': 1,\n",
       "         'chatter': 1,\n",
       "         'chat80155': 1,\n",
       "         'rcd': 1,\n",
       "         '08000776320': 2,\n",
       "         'part': 8,\n",
       "         'survey': 1,\n",
       "         'yesterday': 3,\n",
       "         'howev': 1,\n",
       "         'wish': 2,\n",
       "         '80160': 1,\n",
       "         'hmv1': 1,\n",
       "         'forget': 2,\n",
       "         'place': 4,\n",
       "         'mani': 3,\n",
       "         'request': 2,\n",
       "         '08707808226': 1,\n",
       "         'let': 3,\n",
       "         'notifi': 1,\n",
       "         'luck': 6,\n",
       "         'futur': 3,\n",
       "         'market': 1,\n",
       "         '84122': 1,\n",
       "         '08450542832': 1,\n",
       "         ...})"
      ]
     },
     "execution_count": 47,
     "metadata": {},
     "output_type": "execute_result"
    }
   ],
   "source": [
    "from collections import Counter\n",
    "Counter(spam_corpus)"
   ]
  },
  {
   "cell_type": "code",
   "execution_count": 48,
   "id": "98a63f91",
   "metadata": {},
   "outputs": [
    {
     "data": {
      "text/plain": [
       "[('call', 320),\n",
       " ('free', 191),\n",
       " ('2', 155),\n",
       " ('txt', 141),\n",
       " ('text', 122),\n",
       " ('u', 119),\n",
       " ('ur', 119),\n",
       " ('mobil', 114),\n",
       " ('stop', 104),\n",
       " ('repli', 103),\n",
       " ('claim', 98),\n",
       " ('4', 97),\n",
       " ('prize', 82),\n",
       " ('get', 74),\n",
       " ('new', 64),\n",
       " ('servic', 64),\n",
       " ('tone', 63),\n",
       " ('send', 60),\n",
       " ('urgent', 57),\n",
       " ('nokia', 57),\n",
       " ('contact', 56),\n",
       " ('award', 55),\n",
       " ('phone', 52),\n",
       " ('cash', 51),\n",
       " ('pleas', 51),\n",
       " ('week', 49),\n",
       " ('win', 48),\n",
       " ('c', 45),\n",
       " ('collect', 45),\n",
       " ('min', 45)]"
      ]
     },
     "execution_count": 48,
     "metadata": {},
     "output_type": "execute_result"
    }
   ],
   "source": [
    "Counter(spam_corpus).most_common(30)"
   ]
  },
  {
   "cell_type": "code",
   "execution_count": 49,
   "id": "7d4a083b",
   "metadata": {},
   "outputs": [
    {
     "data": {
      "text/html": [
       "<div>\n",
       "<style scoped>\n",
       "    .dataframe tbody tr th:only-of-type {\n",
       "        vertical-align: middle;\n",
       "    }\n",
       "\n",
       "    .dataframe tbody tr th {\n",
       "        vertical-align: top;\n",
       "    }\n",
       "\n",
       "    .dataframe thead th {\n",
       "        text-align: right;\n",
       "    }\n",
       "</style>\n",
       "<table border=\"1\" class=\"dataframe\">\n",
       "  <thead>\n",
       "    <tr style=\"text-align: right;\">\n",
       "      <th></th>\n",
       "      <th>0</th>\n",
       "      <th>1</th>\n",
       "    </tr>\n",
       "  </thead>\n",
       "  <tbody>\n",
       "    <tr>\n",
       "      <th>0</th>\n",
       "      <td>call</td>\n",
       "      <td>320</td>\n",
       "    </tr>\n",
       "    <tr>\n",
       "      <th>1</th>\n",
       "      <td>free</td>\n",
       "      <td>191</td>\n",
       "    </tr>\n",
       "    <tr>\n",
       "      <th>2</th>\n",
       "      <td>2</td>\n",
       "      <td>155</td>\n",
       "    </tr>\n",
       "    <tr>\n",
       "      <th>3</th>\n",
       "      <td>txt</td>\n",
       "      <td>141</td>\n",
       "    </tr>\n",
       "    <tr>\n",
       "      <th>4</th>\n",
       "      <td>text</td>\n",
       "      <td>122</td>\n",
       "    </tr>\n",
       "    <tr>\n",
       "      <th>5</th>\n",
       "      <td>u</td>\n",
       "      <td>119</td>\n",
       "    </tr>\n",
       "    <tr>\n",
       "      <th>6</th>\n",
       "      <td>ur</td>\n",
       "      <td>119</td>\n",
       "    </tr>\n",
       "    <tr>\n",
       "      <th>7</th>\n",
       "      <td>mobil</td>\n",
       "      <td>114</td>\n",
       "    </tr>\n",
       "    <tr>\n",
       "      <th>8</th>\n",
       "      <td>stop</td>\n",
       "      <td>104</td>\n",
       "    </tr>\n",
       "    <tr>\n",
       "      <th>9</th>\n",
       "      <td>repli</td>\n",
       "      <td>103</td>\n",
       "    </tr>\n",
       "    <tr>\n",
       "      <th>10</th>\n",
       "      <td>claim</td>\n",
       "      <td>98</td>\n",
       "    </tr>\n",
       "    <tr>\n",
       "      <th>11</th>\n",
       "      <td>4</td>\n",
       "      <td>97</td>\n",
       "    </tr>\n",
       "    <tr>\n",
       "      <th>12</th>\n",
       "      <td>prize</td>\n",
       "      <td>82</td>\n",
       "    </tr>\n",
       "    <tr>\n",
       "      <th>13</th>\n",
       "      <td>get</td>\n",
       "      <td>74</td>\n",
       "    </tr>\n",
       "    <tr>\n",
       "      <th>14</th>\n",
       "      <td>new</td>\n",
       "      <td>64</td>\n",
       "    </tr>\n",
       "    <tr>\n",
       "      <th>15</th>\n",
       "      <td>servic</td>\n",
       "      <td>64</td>\n",
       "    </tr>\n",
       "    <tr>\n",
       "      <th>16</th>\n",
       "      <td>tone</td>\n",
       "      <td>63</td>\n",
       "    </tr>\n",
       "    <tr>\n",
       "      <th>17</th>\n",
       "      <td>send</td>\n",
       "      <td>60</td>\n",
       "    </tr>\n",
       "    <tr>\n",
       "      <th>18</th>\n",
       "      <td>urgent</td>\n",
       "      <td>57</td>\n",
       "    </tr>\n",
       "    <tr>\n",
       "      <th>19</th>\n",
       "      <td>nokia</td>\n",
       "      <td>57</td>\n",
       "    </tr>\n",
       "    <tr>\n",
       "      <th>20</th>\n",
       "      <td>contact</td>\n",
       "      <td>56</td>\n",
       "    </tr>\n",
       "    <tr>\n",
       "      <th>21</th>\n",
       "      <td>award</td>\n",
       "      <td>55</td>\n",
       "    </tr>\n",
       "    <tr>\n",
       "      <th>22</th>\n",
       "      <td>phone</td>\n",
       "      <td>52</td>\n",
       "    </tr>\n",
       "    <tr>\n",
       "      <th>23</th>\n",
       "      <td>cash</td>\n",
       "      <td>51</td>\n",
       "    </tr>\n",
       "    <tr>\n",
       "      <th>24</th>\n",
       "      <td>pleas</td>\n",
       "      <td>51</td>\n",
       "    </tr>\n",
       "    <tr>\n",
       "      <th>25</th>\n",
       "      <td>week</td>\n",
       "      <td>49</td>\n",
       "    </tr>\n",
       "    <tr>\n",
       "      <th>26</th>\n",
       "      <td>win</td>\n",
       "      <td>48</td>\n",
       "    </tr>\n",
       "    <tr>\n",
       "      <th>27</th>\n",
       "      <td>c</td>\n",
       "      <td>45</td>\n",
       "    </tr>\n",
       "    <tr>\n",
       "      <th>28</th>\n",
       "      <td>collect</td>\n",
       "      <td>45</td>\n",
       "    </tr>\n",
       "    <tr>\n",
       "      <th>29</th>\n",
       "      <td>min</td>\n",
       "      <td>45</td>\n",
       "    </tr>\n",
       "  </tbody>\n",
       "</table>\n",
       "</div>"
      ],
      "text/plain": [
       "          0    1\n",
       "0      call  320\n",
       "1      free  191\n",
       "2         2  155\n",
       "3       txt  141\n",
       "4      text  122\n",
       "5         u  119\n",
       "6        ur  119\n",
       "7     mobil  114\n",
       "8      stop  104\n",
       "9     repli  103\n",
       "10    claim   98\n",
       "11        4   97\n",
       "12    prize   82\n",
       "13      get   74\n",
       "14      new   64\n",
       "15   servic   64\n",
       "16     tone   63\n",
       "17     send   60\n",
       "18   urgent   57\n",
       "19    nokia   57\n",
       "20  contact   56\n",
       "21    award   55\n",
       "22    phone   52\n",
       "23     cash   51\n",
       "24    pleas   51\n",
       "25     week   49\n",
       "26      win   48\n",
       "27        c   45\n",
       "28  collect   45\n",
       "29      min   45"
      ]
     },
     "execution_count": 49,
     "metadata": {},
     "output_type": "execute_result"
    }
   ],
   "source": [
    "pd.DataFrame(Counter(spam_corpus).most_common(30))"
   ]
  },
  {
   "cell_type": "code",
   "execution_count": 50,
   "id": "07b61108",
   "metadata": {},
   "outputs": [
    {
     "name": "stderr",
     "output_type": "stream",
     "text": [
      "C:\\Users\\gargs\\miniconda3\\lib\\site-packages\\seaborn\\_decorators.py:36: FutureWarning: Pass the following variables as keyword args: x, y. From version 0.12, the only valid positional argument will be `data`, and passing other arguments without an explicit keyword will result in an error or misinterpretation.\n",
      "  warnings.warn(\n"
     ]
    },
    {
     "data": {
      "image/png": "[encoded data removed]",
      "text/plain": [
       "<Figure size 432x288 with 1 Axes>"
      ]
     },
     "metadata": {
      "needs_background": "light"
     },
     "output_type": "display_data"
    }
   ],
   "source": [
    "sns.barplot(pd.DataFrame(Counter(spam_corpus).most_common(30))[0],pd.DataFrame(Counter(spam_corpus).most_common(30))[1])\n",
    "plt.xticks(rotation='vertical')\n",
    "plt.show()"
   ]
  },
  {
   "cell_type": "code",
   "execution_count": 51,
   "id": "45e5bd5f",
   "metadata": {},
   "outputs": [
    {
     "data": {
      "text/plain": [
       "35394"
      ]
     },
     "execution_count": 51,
     "metadata": {},
     "output_type": "execute_result"
    }
   ],
   "source": [
    "ham_corpus = []\n",
    "for msg in df[df['Target'] == 0]['Transformed_text'].tolist():\n",
    "    for word in msg.split():\n",
    "        ham_corpus.append(word)\n",
    "len(ham_corpus)"
   ]
  },
  {
   "cell_type": "code",
   "execution_count": 52,
   "id": "8fa3b115",
   "metadata": {},
   "outputs": [
    {
     "name": "stderr",
     "output_type": "stream",
     "text": [
      "C:\\Users\\gargs\\miniconda3\\lib\\site-packages\\seaborn\\_decorators.py:36: FutureWarning: Pass the following variables as keyword args: x, y. From version 0.12, the only valid positional argument will be `data`, and passing other arguments without an explicit keyword will result in an error or misinterpretation.\n",
      "  warnings.warn(\n"
     ]
    },
    {
     "data": {
      "image/png": "[encoded data removed]",
      "text/plain": [
       "<Figure size 432x288 with 1 Axes>"
      ]
     },
     "metadata": {
      "needs_background": "light"
     },
     "output_type": "display_data"
    }
   ],
   "source": [
    "from collections import Counter\n",
    "sns.barplot(pd.DataFrame(Counter(ham_corpus).most_common(30))[0],pd.DataFrame(Counter(ham_corpus).most_common(30))[1])\n",
    "plt.xticks(rotation='vertical')\n",
    "plt.show()"
   ]
  },
  {
   "cell_type": "code",
   "execution_count": 53,
   "id": "5ad293ec",
   "metadata": {},
   "outputs": [
    {
     "data": {
      "text/html": [
       "<div>\n",
       "<style scoped>\n",
       "    .dataframe tbody tr th:only-of-type {\n",
       "        vertical-align: middle;\n",
       "    }\n",
       "\n",
       "    .dataframe tbody tr th {\n",
       "        vertical-align: top;\n",
       "    }\n",
       "\n",
       "    .dataframe thead th {\n",
       "        text-align: right;\n",
       "    }\n",
       "</style>\n",
       "<table border=\"1\" class=\"dataframe\">\n",
       "  <thead>\n",
       "    <tr style=\"text-align: right;\">\n",
       "      <th></th>\n",
       "      <th>Target</th>\n",
       "      <th>Text</th>\n",
       "      <th>num_characters</th>\n",
       "      <th>num_words</th>\n",
       "      <th>num_sentences</th>\n",
       "      <th>Transformed_text</th>\n",
       "    </tr>\n",
       "  </thead>\n",
       "  <tbody>\n",
       "    <tr>\n",
       "      <th>0</th>\n",
       "      <td>0</td>\n",
       "      <td>Go until jurong point, crazy.. Available only ...</td>\n",
       "      <td>111</td>\n",
       "      <td>24</td>\n",
       "      <td>2</td>\n",
       "      <td>go jurong point crazi avail bugi n great world...</td>\n",
       "    </tr>\n",
       "    <tr>\n",
       "      <th>1</th>\n",
       "      <td>0</td>\n",
       "      <td>Ok lar... Joking wif u oni...</td>\n",
       "      <td>29</td>\n",
       "      <td>8</td>\n",
       "      <td>2</td>\n",
       "      <td>ok lar joke wif u oni</td>\n",
       "    </tr>\n",
       "    <tr>\n",
       "      <th>2</th>\n",
       "      <td>1</td>\n",
       "      <td>Free entry in 2 a wkly comp to win FA Cup fina...</td>\n",
       "      <td>155</td>\n",
       "      <td>37</td>\n",
       "      <td>2</td>\n",
       "      <td>free entri 2 wkli comp win fa cup final tkt 21...</td>\n",
       "    </tr>\n",
       "    <tr>\n",
       "      <th>3</th>\n",
       "      <td>0</td>\n",
       "      <td>U dun say so early hor... U c already then say...</td>\n",
       "      <td>49</td>\n",
       "      <td>13</td>\n",
       "      <td>1</td>\n",
       "      <td>u dun say earli hor u c alreadi say</td>\n",
       "    </tr>\n",
       "    <tr>\n",
       "      <th>4</th>\n",
       "      <td>0</td>\n",
       "      <td>Nah I don't think he goes to usf, he lives aro...</td>\n",
       "      <td>61</td>\n",
       "      <td>15</td>\n",
       "      <td>1</td>\n",
       "      <td>nah think goe usf live around though</td>\n",
       "    </tr>\n",
       "  </tbody>\n",
       "</table>\n",
       "</div>"
      ],
      "text/plain": [
       "   Target                                               Text  num_characters  \\\n",
       "0       0  Go until jurong point, crazy.. Available only ...             111   \n",
       "1       0                      Ok lar... Joking wif u oni...              29   \n",
       "2       1  Free entry in 2 a wkly comp to win FA Cup fina...             155   \n",
       "3       0  U dun say so early hor... U c already then say...              49   \n",
       "4       0  Nah I don't think he goes to usf, he lives aro...              61   \n",
       "\n",
       "   num_words  num_sentences                                   Transformed_text  \n",
       "0         24              2  go jurong point crazi avail bugi n great world...  \n",
       "1          8              2                              ok lar joke wif u oni  \n",
       "2         37              2  free entri 2 wkli comp win fa cup final tkt 21...  \n",
       "3         13              1                u dun say earli hor u c alreadi say  \n",
       "4         15              1               nah think goe usf live around though  "
      ]
     },
     "execution_count": 53,
     "metadata": {},
     "output_type": "execute_result"
    }
   ],
   "source": [
    "df.head()"
   ]
  },
  {
   "cell_type": "markdown",
   "id": "7b45a8ca",
   "metadata": {},
   "source": [
    "## 4. Model Building"
   ]
  },
  {
   "cell_type": "code",
   "execution_count": 54,
   "id": "3210e381",
   "metadata": {},
   "outputs": [],
   "source": [
    "from sklearn.feature_extraction.text import CountVectorizer,TfidfVectorizer"
   ]
  },
  {
   "cell_type": "code",
   "execution_count": 55,
   "id": "830a02dc",
   "metadata": {},
   "outputs": [],
   "source": [
    "cv = CountVectorizer()\n",
    "tfidf = TfidfVectorizer(max_features=3000)"
   ]
  },
  {
   "cell_type": "code",
   "execution_count": 56,
   "id": "794e25c3",
   "metadata": {},
   "outputs": [],
   "source": [
    "X = tfidf.fit_transform(df['Transformed_text']).toarray()"
   ]
  },
  {
   "cell_type": "code",
   "execution_count": null,
   "id": "767e0592",
   "metadata": {},
   "outputs": [],
   "source": [
    "#from sklearn.preprocessing import MinMaxScaler\n",
    "#scaler = MinMaxScaler()\n",
    "#X = scaler.fit_transform(X)"
   ]
  },
  {
   "cell_type": "code",
   "execution_count": null,
   "id": "032316ac",
   "metadata": {},
   "outputs": [],
   "source": [
    "# appending the num_character col to X\n",
    "#X = np.hstack((X,df['num_characters'].values.reshape(-1,1)))"
   ]
  },
  {
   "cell_type": "code",
   "execution_count": 57,
   "id": "0a05be77",
   "metadata": {},
   "outputs": [
    {
     "data": {
      "text/plain": [
       "(5169, 3000)"
      ]
     },
     "execution_count": 57,
     "metadata": {},
     "output_type": "execute_result"
    }
   ],
   "source": [
    "X.shape"
   ]
  },
  {
   "cell_type": "code",
   "execution_count": 58,
   "id": "88d0b634",
   "metadata": {},
   "outputs": [],
   "source": [
    "Y=df['Target'].values"
   ]
  },
  {
   "cell_type": "code",
   "execution_count": 59,
   "id": "dc4b2848",
   "metadata": {},
   "outputs": [],
   "source": [
    "from sklearn.model_selection import train_test_split\n",
    "X_train,X_test,Y_train,Y_test=train_test_split(X,Y,test_size=0.2,random_state=2)"
   ]
  },
  {
   "cell_type": "code",
   "execution_count": 60,
   "id": "015450eb",
   "metadata": {},
   "outputs": [],
   "source": [
    "from sklearn.naive_bayes import GaussianNB,MultinomialNB,BernoulliNB\n",
    "from sklearn.metrics import accuracy_score,confusion_matrix,precision_score"
   ]
  },
  {
   "cell_type": "code",
   "execution_count": 61,
   "id": "b06dd843",
   "metadata": {},
   "outputs": [],
   "source": [
    "gnb = GaussianNB()\n",
    "mnb = MultinomialNB()\n",
    "bnb = BernoulliNB()"
   ]
  },
  {
   "cell_type": "code",
   "execution_count": 62,
   "id": "82e386cf",
   "metadata": {},
   "outputs": [
    {
     "name": "stdout",
     "output_type": "stream",
     "text": [
      "0.8694390715667312\n",
      "[[788 108]\n",
      " [ 27 111]]\n",
      "0.5068493150684932\n"
     ]
    }
   ],
   "source": [
    "gnb.fit(X_train,Y_train)\n",
    "y_pred1 = gnb.predict(X_test)\n",
    "print(accuracy_score(Y_test,y_pred1))\n",
    "print(confusion_matrix(Y_test,y_pred1))\n",
    "print(precision_score(Y_test,y_pred1))"
   ]
  },
  {
   "cell_type": "code",
   "execution_count": 63,
   "id": "8c6ccd86",
   "metadata": {},
   "outputs": [
    {
     "name": "stdout",
     "output_type": "stream",
     "text": [
      "0.9709864603481625\n",
      "[[896   0]\n",
      " [ 30 108]]\n",
      "1.0\n"
     ]
    }
   ],
   "source": [
    "mnb.fit(X_train,Y_train)\n",
    "y_pred1 = mnb.predict(X_test)\n",
    "print(accuracy_score(Y_test,y_pred1))\n",
    "print(confusion_matrix(Y_test,y_pred1))\n",
    "print(precision_score(Y_test,y_pred1))"
   ]
  },
  {
   "cell_type": "code",
   "execution_count": 64,
   "id": "c9f2afd7",
   "metadata": {},
   "outputs": [
    {
     "name": "stdout",
     "output_type": "stream",
     "text": [
      "0.9835589941972921\n",
      "[[895   1]\n",
      " [ 16 122]]\n",
      "0.991869918699187\n"
     ]
    }
   ],
   "source": [
    "bnb.fit(X_train,Y_train)\n",
    "y_pred1 = bnb.predict(X_test)\n",
    "print(accuracy_score(Y_test,y_pred1))\n",
    "print(confusion_matrix(Y_test,y_pred1))\n",
    "print(precision_score(Y_test,y_pred1))"
   ]
  },
  {
   "cell_type": "code",
   "execution_count": 65,
   "id": "33cea599",
   "metadata": {},
   "outputs": [],
   "source": [
    "# tfidf ---> mnb"
   ]
  },
  {
   "cell_type": "code",
   "execution_count": 66,
   "id": "a50bcd6c",
   "metadata": {},
   "outputs": [
    {
     "name": "stderr",
     "output_type": "stream",
     "text": [
      "C:\\Users\\gargs\\miniconda3\\lib\\site-packages\\xgboost\\compat.py:36: FutureWarning: pandas.Int64Index is deprecated and will be removed from pandas in a future version. Use pandas.Index with the appropriate dtype instead.\n",
      "  from pandas import MultiIndex, Int64Index\n"
     ]
    }
   ],
   "source": [
    "from sklearn.linear_model import LogisticRegression\n",
    "from sklearn.svm import SVC\n",
    "from sklearn.naive_bayes import MultinomialNB\n",
    "from sklearn.tree import DecisionTreeClassifier\n",
    "from sklearn.neighbors import KNeighborsClassifier\n",
    "from sklearn.ensemble import RandomForestClassifier\n",
    "from sklearn.ensemble import AdaBoostClassifier\n",
    "from sklearn.ensemble import BaggingClassifier\n",
    "from sklearn.ensemble import ExtraTreesClassifier\n",
    "from sklearn.ensemble import GradientBoostingClassifier\n",
    "from xgboost import XGBClassifier"
   ]
  },
  {
   "cell_type": "code",
   "execution_count": 67,
   "id": "47578adb",
   "metadata": {},
   "outputs": [],
   "source": [
    "svc = SVC(kernel='sigmoid', gamma=1.0)\n",
    "knc = KNeighborsClassifier()\n",
    "mnb = MultinomialNB()\n",
    "dtc = DecisionTreeClassifier(max_depth=5)\n",
    "lrc = LogisticRegression(solver='liblinear', penalty='l1')\n",
    "rfc = RandomForestClassifier(n_estimators=50, random_state=2)\n",
    "abc = AdaBoostClassifier(n_estimators=50, random_state=2)\n",
    "bc = BaggingClassifier(n_estimators=50, random_state=2)\n",
    "etc = ExtraTreesClassifier(n_estimators=50, random_state=2)\n",
    "gbdt = GradientBoostingClassifier(n_estimators=50,random_state=2)\n",
    "xgb = XGBClassifier(n_estimators=50,random_state=2)"
   ]
  },
  {
   "cell_type": "code",
   "execution_count": 68,
   "id": "51467175",
   "metadata": {},
   "outputs": [],
   "source": [
    "clfs = {\n",
    "    'SVC' : svc,\n",
    "    'KN' : knc, \n",
    "    'NB': mnb, \n",
    "    'DT': dtc, \n",
    "    'LR': lrc, \n",
    "    'RF': rfc, \n",
    "    'AdaBoost': abc, \n",
    "    'BgC': bc, \n",
    "    'ETC': etc,\n",
    "    'GBDT':gbdt,\n",
    "    'xgb':xgb\n",
    "}"
   ]
  },
  {
   "cell_type": "code",
   "execution_count": 71,
   "id": "70d42bcd",
   "metadata": {},
   "outputs": [],
   "source": [
    "def train_classifier(clf,X_train,Y_train,X_test,Y_test):\n",
    "    clf.fit(X_train,Y_train)\n",
    "    y_pred = clf.predict(X_test)\n",
    "    accuracy = accuracy_score(Y_test,y_pred)\n",
    "    precision=precision_score(Y_test,y_pred)\n",
    "    \n",
    "    return accuracy,precision"
   ]
  },
  {
   "cell_type": "code",
   "execution_count": 72,
   "id": "98f1eebc",
   "metadata": {},
   "outputs": [
    {
     "name": "stdout",
     "output_type": "stream",
     "text": [
      "For  SVC\n",
      "Accuracy -  0.9758220502901354\n",
      "Precision -  0.9747899159663865\n",
      "For  KN\n",
      "Accuracy -  0.9052224371373307\n",
      "Precision -  1.0\n",
      "For  NB\n",
      "Accuracy -  0.9709864603481625\n",
      "Precision -  1.0\n",
      "For  DT\n",
      "Accuracy -  0.9274661508704062\n",
      "Precision -  0.8118811881188119\n",
      "For  LR\n",
      "Accuracy -  0.9584139264990329\n",
      "Precision -  0.9702970297029703\n",
      "For  RF\n",
      "Accuracy -  0.9748549323017408\n",
      "Precision -  0.9827586206896551\n",
      "For  AdaBoost\n",
      "Accuracy -  0.960348162475822\n",
      "Precision -  0.9292035398230089\n",
      "For  BgC\n",
      "Accuracy -  0.9574468085106383\n",
      "Precision -  0.8671875\n",
      "For  ETC\n",
      "Accuracy -  0.9748549323017408\n",
      "Precision -  0.9745762711864406\n",
      "For  GBDT\n",
      "Accuracy -  0.9477756286266924\n",
      "Precision -  0.92\n"
     ]
    },
    {
     "name": "stderr",
     "output_type": "stream",
     "text": [
      "C:\\Users\\gargs\\miniconda3\\lib\\site-packages\\xgboost\\sklearn.py:1224: UserWarning: The use of label encoder in XGBClassifier is deprecated and will be removed in a future release. To remove this warning, do the following: 1) Pass option use_label_encoder=False when constructing XGBClassifier object; and 2) Encode your labels (y) as integers starting with 0, i.e. 0, 1, 2, ..., [num_class - 1].\n",
      "  warnings.warn(label_encoder_deprecation_msg, UserWarning)\n"
     ]
    },
    {
     "name": "stdout",
     "output_type": "stream",
     "text": [
      "[16:10:47] WARNING: ..\\src\\learner.cc:1115: Starting in XGBoost 1.3.0, the default evaluation metric used with the objective 'binary:logistic' was changed from 'error' to 'logloss'. Explicitly set eval_metric if you'd like to restore the old behavior.\n",
      "For  xgb\n",
      "Accuracy -  0.971953578336557\n",
      "Precision -  0.943089430894309\n"
     ]
    }
   ],
   "source": [
    "accuracy_scores=[]\n",
    "precision_scores=[]\n",
    "\n",
    "for name,clf in clfs.items():\n",
    "    \n",
    "    current_accuracy,current_precision = train_classifier(clf, X_train,Y_train,X_test,Y_test)\n",
    "    \n",
    "    print(\"For \",name)\n",
    "    print(\"Accuracy - \",current_accuracy)\n",
    "    print(\"Precision - \",current_precision)\n",
    "    \n",
    "    accuracy_scores.append(current_accuracy)\n",
    "    precision_scores.append(current_precision)"
   ]
  },
  {
   "cell_type": "code",
   "execution_count": 78,
   "id": "23cba10b",
   "metadata": {},
   "outputs": [],
   "source": [
    "performance_df =pd.DataFrame({'Algorithm':clfs.keys(),'Accuracy':accuracy_scores,'Precision':precision_scores}).sort_values('Precision',ascending=False)"
   ]
  },
  {
   "cell_type": "code",
   "execution_count": 85,
   "id": "6a1e2662",
   "metadata": {},
   "outputs": [
    {
     "data": {
      "text/html": [
       "<div>\n",
       "<style scoped>\n",
       "    .dataframe tbody tr th:only-of-type {\n",
       "        vertical-align: middle;\n",
       "    }\n",
       "\n",
       "    .dataframe tbody tr th {\n",
       "        vertical-align: top;\n",
       "    }\n",
       "\n",
       "    .dataframe thead th {\n",
       "        text-align: right;\n",
       "    }\n",
       "</style>\n",
       "<table border=\"1\" class=\"dataframe\">\n",
       "  <thead>\n",
       "    <tr style=\"text-align: right;\">\n",
       "      <th></th>\n",
       "      <th>Algorithm</th>\n",
       "      <th>Accuracy</th>\n",
       "      <th>Precision</th>\n",
       "    </tr>\n",
       "  </thead>\n",
       "  <tbody>\n",
       "    <tr>\n",
       "      <th>1</th>\n",
       "      <td>KN</td>\n",
       "      <td>0.905222</td>\n",
       "      <td>1.000000</td>\n",
       "    </tr>\n",
       "    <tr>\n",
       "      <th>2</th>\n",
       "      <td>NB</td>\n",
       "      <td>0.970986</td>\n",
       "      <td>1.000000</td>\n",
       "    </tr>\n",
       "    <tr>\n",
       "      <th>5</th>\n",
       "      <td>RF</td>\n",
       "      <td>0.974855</td>\n",
       "      <td>0.982759</td>\n",
       "    </tr>\n",
       "    <tr>\n",
       "      <th>0</th>\n",
       "      <td>SVC</td>\n",
       "      <td>0.975822</td>\n",
       "      <td>0.974790</td>\n",
       "    </tr>\n",
       "    <tr>\n",
       "      <th>8</th>\n",
       "      <td>ETC</td>\n",
       "      <td>0.974855</td>\n",
       "      <td>0.974576</td>\n",
       "    </tr>\n",
       "    <tr>\n",
       "      <th>4</th>\n",
       "      <td>LR</td>\n",
       "      <td>0.958414</td>\n",
       "      <td>0.970297</td>\n",
       "    </tr>\n",
       "    <tr>\n",
       "      <th>10</th>\n",
       "      <td>xgb</td>\n",
       "      <td>0.971954</td>\n",
       "      <td>0.943089</td>\n",
       "    </tr>\n",
       "    <tr>\n",
       "      <th>6</th>\n",
       "      <td>AdaBoost</td>\n",
       "      <td>0.960348</td>\n",
       "      <td>0.929204</td>\n",
       "    </tr>\n",
       "    <tr>\n",
       "      <th>9</th>\n",
       "      <td>GBDT</td>\n",
       "      <td>0.947776</td>\n",
       "      <td>0.920000</td>\n",
       "    </tr>\n",
       "    <tr>\n",
       "      <th>7</th>\n",
       "      <td>BgC</td>\n",
       "      <td>0.957447</td>\n",
       "      <td>0.867188</td>\n",
       "    </tr>\n",
       "    <tr>\n",
       "      <th>3</th>\n",
       "      <td>DT</td>\n",
       "      <td>0.927466</td>\n",
       "      <td>0.811881</td>\n",
       "    </tr>\n",
       "  </tbody>\n",
       "</table>\n",
       "</div>"
      ],
      "text/plain": [
       "   Algorithm  Accuracy  Precision\n",
       "1         KN  0.905222   1.000000\n",
       "2         NB  0.970986   1.000000\n",
       "5         RF  0.974855   0.982759\n",
       "0        SVC  0.975822   0.974790\n",
       "8        ETC  0.974855   0.974576\n",
       "4         LR  0.958414   0.970297\n",
       "10       xgb  0.971954   0.943089\n",
       "6   AdaBoost  0.960348   0.929204\n",
       "9       GBDT  0.947776   0.920000\n",
       "7        BgC  0.957447   0.867188\n",
       "3         DT  0.927466   0.811881"
      ]
     },
     "execution_count": 85,
     "metadata": {},
     "output_type": "execute_result"
    }
   ],
   "source": [
    "performance_df"
   ]
  },
  {
   "cell_type": "code",
   "execution_count": 86,
   "id": "2463f083",
   "metadata": {},
   "outputs": [],
   "source": [
    "performance_df1 = pd.melt(performance_df, id_vars = \"Algorithm\")"
   ]
  },
  {
   "cell_type": "code",
   "execution_count": 81,
   "id": "be4a15a3",
   "metadata": {},
   "outputs": [
    {
     "data": {
      "text/html": [
       "<div>\n",
       "<style scoped>\n",
       "    .dataframe tbody tr th:only-of-type {\n",
       "        vertical-align: middle;\n",
       "    }\n",
       "\n",
       "    .dataframe tbody tr th {\n",
       "        vertical-align: top;\n",
       "    }\n",
       "\n",
       "    .dataframe thead th {\n",
       "        text-align: right;\n",
       "    }\n",
       "</style>\n",
       "<table border=\"1\" class=\"dataframe\">\n",
       "  <thead>\n",
       "    <tr style=\"text-align: right;\">\n",
       "      <th></th>\n",
       "      <th>Algorithm</th>\n",
       "      <th>variable</th>\n",
       "      <th>value</th>\n",
       "    </tr>\n",
       "  </thead>\n",
       "  <tbody>\n",
       "    <tr>\n",
       "      <th>0</th>\n",
       "      <td>KN</td>\n",
       "      <td>Accuracy</td>\n",
       "      <td>0.905222</td>\n",
       "    </tr>\n",
       "    <tr>\n",
       "      <th>1</th>\n",
       "      <td>NB</td>\n",
       "      <td>Accuracy</td>\n",
       "      <td>0.970986</td>\n",
       "    </tr>\n",
       "    <tr>\n",
       "      <th>2</th>\n",
       "      <td>RF</td>\n",
       "      <td>Accuracy</td>\n",
       "      <td>0.974855</td>\n",
       "    </tr>\n",
       "    <tr>\n",
       "      <th>3</th>\n",
       "      <td>SVC</td>\n",
       "      <td>Accuracy</td>\n",
       "      <td>0.975822</td>\n",
       "    </tr>\n",
       "    <tr>\n",
       "      <th>4</th>\n",
       "      <td>ETC</td>\n",
       "      <td>Accuracy</td>\n",
       "      <td>0.974855</td>\n",
       "    </tr>\n",
       "    <tr>\n",
       "      <th>5</th>\n",
       "      <td>LR</td>\n",
       "      <td>Accuracy</td>\n",
       "      <td>0.958414</td>\n",
       "    </tr>\n",
       "    <tr>\n",
       "      <th>6</th>\n",
       "      <td>xgb</td>\n",
       "      <td>Accuracy</td>\n",
       "      <td>0.971954</td>\n",
       "    </tr>\n",
       "    <tr>\n",
       "      <th>7</th>\n",
       "      <td>AdaBoost</td>\n",
       "      <td>Accuracy</td>\n",
       "      <td>0.960348</td>\n",
       "    </tr>\n",
       "    <tr>\n",
       "      <th>8</th>\n",
       "      <td>GBDT</td>\n",
       "      <td>Accuracy</td>\n",
       "      <td>0.947776</td>\n",
       "    </tr>\n",
       "    <tr>\n",
       "      <th>9</th>\n",
       "      <td>BgC</td>\n",
       "      <td>Accuracy</td>\n",
       "      <td>0.957447</td>\n",
       "    </tr>\n",
       "    <tr>\n",
       "      <th>10</th>\n",
       "      <td>DT</td>\n",
       "      <td>Accuracy</td>\n",
       "      <td>0.927466</td>\n",
       "    </tr>\n",
       "    <tr>\n",
       "      <th>11</th>\n",
       "      <td>KN</td>\n",
       "      <td>Precision</td>\n",
       "      <td>1.000000</td>\n",
       "    </tr>\n",
       "    <tr>\n",
       "      <th>12</th>\n",
       "      <td>NB</td>\n",
       "      <td>Precision</td>\n",
       "      <td>1.000000</td>\n",
       "    </tr>\n",
       "    <tr>\n",
       "      <th>13</th>\n",
       "      <td>RF</td>\n",
       "      <td>Precision</td>\n",
       "      <td>0.982759</td>\n",
       "    </tr>\n",
       "    <tr>\n",
       "      <th>14</th>\n",
       "      <td>SVC</td>\n",
       "      <td>Precision</td>\n",
       "      <td>0.974790</td>\n",
       "    </tr>\n",
       "    <tr>\n",
       "      <th>15</th>\n",
       "      <td>ETC</td>\n",
       "      <td>Precision</td>\n",
       "      <td>0.974576</td>\n",
       "    </tr>\n",
       "    <tr>\n",
       "      <th>16</th>\n",
       "      <td>LR</td>\n",
       "      <td>Precision</td>\n",
       "      <td>0.970297</td>\n",
       "    </tr>\n",
       "    <tr>\n",
       "      <th>17</th>\n",
       "      <td>xgb</td>\n",
       "      <td>Precision</td>\n",
       "      <td>0.943089</td>\n",
       "    </tr>\n",
       "    <tr>\n",
       "      <th>18</th>\n",
       "      <td>AdaBoost</td>\n",
       "      <td>Precision</td>\n",
       "      <td>0.929204</td>\n",
       "    </tr>\n",
       "    <tr>\n",
       "      <th>19</th>\n",
       "      <td>GBDT</td>\n",
       "      <td>Precision</td>\n",
       "      <td>0.920000</td>\n",
       "    </tr>\n",
       "    <tr>\n",
       "      <th>20</th>\n",
       "      <td>BgC</td>\n",
       "      <td>Precision</td>\n",
       "      <td>0.867188</td>\n",
       "    </tr>\n",
       "    <tr>\n",
       "      <th>21</th>\n",
       "      <td>DT</td>\n",
       "      <td>Precision</td>\n",
       "      <td>0.811881</td>\n",
       "    </tr>\n",
       "  </tbody>\n",
       "</table>\n",
       "</div>"
      ],
      "text/plain": [
       "   Algorithm   variable     value\n",
       "0         KN   Accuracy  0.905222\n",
       "1         NB   Accuracy  0.970986\n",
       "2         RF   Accuracy  0.974855\n",
       "3        SVC   Accuracy  0.975822\n",
       "4        ETC   Accuracy  0.974855\n",
       "5         LR   Accuracy  0.958414\n",
       "6        xgb   Accuracy  0.971954\n",
       "7   AdaBoost   Accuracy  0.960348\n",
       "8       GBDT   Accuracy  0.947776\n",
       "9        BgC   Accuracy  0.957447\n",
       "10        DT   Accuracy  0.927466\n",
       "11        KN  Precision  1.000000\n",
       "12        NB  Precision  1.000000\n",
       "13        RF  Precision  0.982759\n",
       "14       SVC  Precision  0.974790\n",
       "15       ETC  Precision  0.974576\n",
       "16        LR  Precision  0.970297\n",
       "17       xgb  Precision  0.943089\n",
       "18  AdaBoost  Precision  0.929204\n",
       "19      GBDT  Precision  0.920000\n",
       "20       BgC  Precision  0.867188\n",
       "21        DT  Precision  0.811881"
      ]
     },
     "execution_count": 81,
     "metadata": {},
     "output_type": "execute_result"
    }
   ],
   "source": [
    "performance_df1"
   ]
  },
  {
   "cell_type": "code",
   "execution_count": 82,
   "id": "824e7b20",
   "metadata": {},
   "outputs": [
    {
     "data": {
      "image/png": "[encoded data removed]",
      "text/plain": [
       "<Figure size 441.75x360 with 1 Axes>"
      ]
     },
     "metadata": {
      "needs_background": "light"
     },
     "output_type": "display_data"
    }
   ],
   "source": [
    "sns.catplot(x = 'Algorithm', y='value', \n",
    "               hue = 'variable',data=performance_df1, kind='bar',height=5)\n",
    "plt.ylim(0.5,1.0)\n",
    "plt.xticks(rotation='vertical')\n",
    "plt.show()"
   ]
  },
  {
   "cell_type": "code",
   "execution_count": 83,
   "id": "94d1c6c8",
   "metadata": {},
   "outputs": [],
   "source": [
    "# temp_df = pd.DataFrame({'Algorithm':clfs.keys(),'Accuracy_max_ft_3000':accuracy_scores,'Precision_max_ft_3000':precision_scores}).sort_values('Precision_max_ft_3000',ascending=False)"
   ]
  },
  {
   "cell_type": "code",
   "execution_count": 84,
   "id": "6fcdacb6",
   "metadata": {},
   "outputs": [],
   "source": [
    "# new_df = performance_df.merge(temp_df,on='Algorithm')"
   ]
  },
  {
   "cell_type": "code",
   "execution_count": null,
   "id": "77a48e9c",
   "metadata": {},
   "outputs": [],
   "source": [
    "# temp_df_scaled = pd.DataFrame({'Algorithm':clfs.keys(),'Accuracy_scaling':accuracy_scores,'Precision_scaling':precision_scores}).sort_values('Precision_scaling',ascending=False)"
   ]
  },
  {
   "cell_type": "code",
   "execution_count": null,
   "id": "64703499",
   "metadata": {},
   "outputs": [],
   "source": [
    "# new_df_scaled = new_df.merge(temp_df,on='Algorithm')"
   ]
  },
  {
   "cell_type": "code",
   "execution_count": null,
   "id": "893958a0",
   "metadata": {},
   "outputs": [],
   "source": [
    "# temp_df = pd.DataFrame({'Algorithm':clfs.keys(),'Accuracy_num_chars':accuracy_scores,'Precision_num_chars':precision_scores}).sort_values('Precision_num_chars',ascending=False)"
   ]
  },
  {
   "cell_type": "code",
   "execution_count": null,
   "id": "5851443b",
   "metadata": {},
   "outputs": [],
   "source": [
    "# new_df_scaled.merge(temp_df,on='Algorithm')"
   ]
  },
  {
   "cell_type": "code",
   "execution_count": 87,
   "id": "1b9e2065",
   "metadata": {},
   "outputs": [],
   "source": [
    "# Voting Classifier\n",
    "svc = SVC(kernel='sigmoid', gamma=1.0,probability=True)\n",
    "mnb = MultinomialNB()\n",
    "etc = ExtraTreesClassifier(n_estimators=50, random_state=2)\n",
    "\n",
    "from sklearn.ensemble import VotingClassifier"
   ]
  },
  {
   "cell_type": "code",
   "execution_count": 88,
   "id": "0903b580",
   "metadata": {},
   "outputs": [],
   "source": [
    "voting = VotingClassifier(estimators=[('svm', svc), ('nb', mnb), ('et', etc)],voting='soft')"
   ]
  },
  {
   "cell_type": "code",
   "execution_count": 90,
   "id": "44014cb0",
   "metadata": {},
   "outputs": [
    {
     "data": {
      "text/plain": [
       "VotingClassifier(estimators=[('svm',\n",
       "                              SVC(gamma=1.0, kernel='sigmoid',\n",
       "                                  probability=True)),\n",
       "                             ('nb', MultinomialNB()),\n",
       "                             ('et',\n",
       "                              ExtraTreesClassifier(n_estimators=50,\n",
       "                                                   random_state=2))],\n",
       "                 voting='soft')"
      ]
     },
     "execution_count": 90,
     "metadata": {},
     "output_type": "execute_result"
    }
   ],
   "source": [
    "voting.fit(X_train,Y_train)"
   ]
  },
  {
   "cell_type": "code",
   "execution_count": 92,
   "id": "c0dd971b",
   "metadata": {},
   "outputs": [
    {
     "name": "stdout",
     "output_type": "stream",
     "text": [
      "Accuracy 0.9816247582205029\n",
      "Precision 0.9917355371900827\n"
     ]
    }
   ],
   "source": [
    "y_pred = voting.predict(X_test)\n",
    "print(\"Accuracy\",accuracy_score(Y_test,y_pred))\n",
    "print(\"Precision\",precision_score(Y_test,y_pred))"
   ]
  },
  {
   "cell_type": "code",
   "execution_count": 93,
   "id": "e23c73f9",
   "metadata": {},
   "outputs": [],
   "source": [
    "# Applying stacking\n",
    "estimators=[('svm', svc), ('nb', mnb), ('et', etc)]\n",
    "final_estimator=RandomForestClassifier()"
   ]
  },
  {
   "cell_type": "code",
   "execution_count": 94,
   "id": "095cf154",
   "metadata": {},
   "outputs": [],
   "source": [
    "from sklearn.ensemble import StackingClassifier"
   ]
  },
  {
   "cell_type": "code",
   "execution_count": 95,
   "id": "63cd5fce",
   "metadata": {},
   "outputs": [],
   "source": [
    "clf = StackingClassifier(estimators=estimators, final_estimator=final_estimator)"
   ]
  },
  {
   "cell_type": "code",
   "execution_count": 96,
   "id": "cbef4717",
   "metadata": {},
   "outputs": [
    {
     "name": "stdout",
     "output_type": "stream",
     "text": [
      "Accuracy 0.9796905222437138\n",
      "Precision 0.9398496240601504\n"
     ]
    }
   ],
   "source": [
    "clf.fit(X_train,Y_train)\n",
    "y_pred = clf.predict(X_test)\n",
    "print(\"Accuracy\",accuracy_score(Y_test,y_pred))\n",
    "print(\"Precision\",precision_score(Y_test,y_pred))"
   ]
  },
  {
   "cell_type": "code",
   "execution_count": 97,
   "id": "0b2a1790",
   "metadata": {},
   "outputs": [],
   "source": [
    "import pickle\n",
    "pickle.dump(tfidf,open('vectorizer.pkl','wb'))\n",
    "pickle.dump(mnb,open('model.pkl','wb'))"
   ]
  },
  {
   "cell_type": "code",
   "execution_count": null,
   "id": "d24be984",
   "metadata": {},
   "outputs": [],
   "source": []
  }
 ],
 "metadata": {
  "kernelspec": {
   "display_name": "Python 3 (ipykernel)",
   "language": "python",
   "name": "python3"
  },
  "language_info": {
   "codemirror_mode": {
    "name": "ipython",
    "version": 3
   },
   "file_extension": ".py",
   "mimetype": "text/x-python",
   "name": "python",
   "nbconvert_exporter": "python",
   "pygments_lexer": "ipython3",
   "version": "3.9.5"
  }
 },
 "nbformat": 4,
 "nbformat_minor": 5
}
