{
 "cells": [
  {
   "cell_type": "code",
   "execution_count": 62,
   "metadata": {},
   "outputs": [],
   "source": [
    "import pandas as pd \n",
    "import numpy as np "
   ]
  },
  {
   "cell_type": "code",
   "execution_count": 63,
   "metadata": {},
   "outputs": [],
   "source": [
    "df = pd.read_csv(\"PlayTennis.csv\")"
   ]
  },
  {
   "cell_type": "code",
   "execution_count": 64,
   "metadata": {},
   "outputs": [],
   "source": [
    "def calc_total_entropy(train_data, label, class_list):\n",
    "    total_row = train_data.shape[0] \n",
    "    total_entr = 0\n",
    "    \n",
    "    for c in class_list: \n",
    "        total_class_count = train_data[train_data[label] == c].shape[0] \n",
    "        total_class_entr = - (total_class_count/total_row)*np.log2(total_class_count/total_row) \n",
    "        total_entr += total_class_entr \n",
    "    \n",
    "    return total_entr"
   ]
  },
  {
   "cell_type": "code",
   "execution_count": 65,
   "metadata": {},
   "outputs": [],
   "source": [
    "def calc_entropy(feature_value_data, label, class_list):\n",
    "    class_count = feature_value_data.shape[0]\n",
    "    entropy = 0\n",
    "    \n",
    "    for c in class_list:\n",
    "        label_class_count = feature_value_data[feature_value_data[label] == c].shape[0] \n",
    "        entropy_class = 0\n",
    "        if label_class_count != 0:\n",
    "            probability_class = label_class_count/class_count \n",
    "            entropy_class = - probability_class * np.log2(probability_class)  \n",
    "        entropy += entropy_class\n",
    "    return entropy"
   ]
  },
  {
   "cell_type": "code",
   "execution_count": 66,
   "metadata": {},
   "outputs": [],
   "source": [
    "def calc_info_gain(feature_name, train_data, label, class_list):\n",
    "    feature_value_list = train_data[feature_name].unique() \n",
    "    total_row = train_data.shape[0]\n",
    "    feature_info = 0.0\n",
    "    \n",
    "    for feature_value in feature_value_list:\n",
    "        feature_value_data = train_data[train_data[feature_name] == feature_value] \n",
    "        feature_value_count = feature_value_data.shape[0]\n",
    "        feature_value_entropy = calc_entropy(feature_value_data, label, class_list) \n",
    "        feature_value_probability = feature_value_count/total_row\n",
    "        feature_info += feature_value_probability * feature_value_entropy \n",
    "        \n",
    "    return calc_total_entropy(train_data, label, class_list) - feature_info \n"
   ]
  },
  {
   "cell_type": "code",
   "execution_count": 67,
   "metadata": {},
   "outputs": [],
   "source": [
    "def find_most_informative_feature(train_data, label, class_list):\n",
    "    feature_list = train_data.columns.drop(label) \n",
    "                                           \n",
    "    max_info_gain = -1\n",
    "    max_info_feature = None\n",
    "    \n",
    "    for feature in feature_list:  #for each feature in the dataset\n",
    "        feature_info_gain = calc_info_gain(feature, train_data, label, class_list)\n",
    "        if max_info_gain < feature_info_gain: \n",
    "            max_info_gain = feature_info_gain\n",
    "            max_info_feature = feature\n",
    "            \n",
    "    return max_info_feature"
   ]
  },
  {
   "cell_type": "code",
   "execution_count": 68,
   "metadata": {},
   "outputs": [],
   "source": [
    "def generate_sub_tree(feature_name, train_data, label, class_list):\n",
    "    feature_value_count_dict = train_data[feature_name].value_counts(sort=False) \n",
    "    tree = {} \n",
    "    \n",
    "    for feature_value, count in feature_value_count_dict.iteritems():\n",
    "        feature_value_data = train_data[train_data[feature_name] == feature_value] \n",
    "        \n",
    "        assigned_to_node = False \n",
    "        for c in class_list: \n",
    "            class_count = feature_value_data[feature_value_data[label] == c].shape[0] \n",
    "            if class_count == count: \n",
    "                tree[feature_value] = c\n",
    "                train_data = train_data[train_data[feature_name] != feature_value] \n",
    "                assigned_to_node = True\n",
    "        if not assigned_to_node: \n",
    "            tree[feature_value] = \"?\" \n",
    "            \n",
    "    return tree, train_data"
   ]
  },
  {
   "cell_type": "code",
   "execution_count": 69,
   "metadata": {},
   "outputs": [],
   "source": [
    "def make_tree(root, prev_feature_value, train_data, label, class_list):\n",
    "    if train_data.shape[0] != 0: \n",
    "        max_info_feature = find_most_informative_feature(train_data, label, class_list) \n",
    "        tree, train_data = generate_sub_tree(max_info_feature, train_data, label, class_list) \n",
    "        next_root = None\n",
    "        \n",
    "        if prev_feature_value != None: \n",
    "            root[prev_feature_value] = dict()\n",
    "            root[prev_feature_value][max_info_feature] = tree\n",
    "            next_root = root[prev_feature_value][max_info_feature]\n",
    "        else: \n",
    "            root[max_info_feature] = tree\n",
    "            next_root = root[max_info_feature]\n",
    "        \n",
    "        for node, branch in list(next_root.items()): \n",
    "            if branch == \"?\": \n",
    "                feature_value_data = train_data[train_data[max_info_feature] == node] \n",
    "                make_tree(next_root, node, feature_value_data, label, class_list) \n",
    "            "
   ]
  },
  {
   "cell_type": "code",
   "execution_count": 70,
   "metadata": {},
   "outputs": [],
   "source": [
    "def id3(train_data_m, label):\n",
    "    train_data = train_data_m.copy() \n",
    "    tree = {} \n",
    "    class_list = train_data[label].unique() \n",
    "    make_tree(tree, None, train_data_m, label, class_list) \n",
    "    return tree"
   ]
  },
  {
   "cell_type": "code",
   "execution_count": 71,
   "metadata": {},
   "outputs": [],
   "source": [
    "tree = id3(df, 'Play Tennis')"
   ]
  },
  {
   "cell_type": "code",
   "execution_count": 72,
   "metadata": {},
   "outputs": [],
   "source": [
    "def predict(tree, instance):\n",
    "    if not isinstance(tree, dict):\n",
    "        return tree \n",
    "    else:\n",
    "        root_node = next(iter(tree)) \n",
    "        feature_value = instance[root_node] \n",
    "        if feature_value in tree[root_node]: \n",
    "            return predict(tree[root_node][feature_value], instance) \n",
    "        else:\n",
    "            return None"
   ]
  },
  {
   "cell_type": "code",
   "execution_count": 73,
   "metadata": {},
   "outputs": [],
   "source": [
    "def evaluate(tree, test_data_m, label):\n",
    "    correct_preditct = 0\n",
    "    wrong_preditct = 0\n",
    "    for index, row in test_data_m.iterrows(): \n",
    "        result = predict(tree, test_data_m.iloc[index]) \n",
    "        if result == test_data_m[label].iloc[index]:\n",
    "            correct_preditct += 1 \n",
    "        else:\n",
    "            wrong_preditct += 1 \n",
    "    accuracy = correct_preditct / (correct_preditct + wrong_preditct) \n",
    "    return accuracy"
   ]
  },
  {
   "cell_type": "code",
   "execution_count": 74,
   "metadata": {},
   "outputs": [],
   "source": [
    "test = pd.read_csv(\"PlayTennis-test.csv\") \n",
    "\n",
    "accuracy = evaluate(tree, test, 'Play Tennis')"
   ]
  },
  {
   "cell_type": "code",
   "execution_count": 75,
   "metadata": {},
   "outputs": [
    {
     "name": "stdout",
     "output_type": "stream",
     "text": [
      "1.0\n"
     ]
    }
   ],
   "source": [
    "print(accuracy)"
   ]
  },
  {
   "cell_type": "code",
   "execution_count": 76,
   "metadata": {},
   "outputs": [],
   "source": [
    "def visualize(root, indent = 0):\n",
    "    if type(root) == dict:\n",
    "        for k,v in root.items():\n",
    "            print(\" \"*indent + f\"{k}:\")\n",
    "            visualize(v, indent + 2)\n",
    "    else:\n",
    "        print(\" \"*indent + repr(root))"
   ]
  },
  {
   "cell_type": "code",
   "execution_count": 77,
   "metadata": {},
   "outputs": [
    {
     "name": "stdout",
     "output_type": "stream",
     "text": [
      "Outlook:\n",
      "  Rain:\n",
      "    Wind:\n",
      "      Strong:\n",
      "        'No'\n",
      "      Weak:\n",
      "        'Yes'\n",
      "  Sunny:\n",
      "    Humidity:\n",
      "      High:\n",
      "        'No'\n",
      "      Normal:\n",
      "        'Yes'\n",
      "  Overcast:\n",
      "    'Yes'\n"
     ]
    }
   ],
   "source": [
    "visualize(tree)"
   ]
  },
  {
   "cell_type": "code",
   "execution_count": null,
   "metadata": {},
   "outputs": [],
   "source": []
  },
  {
   "cell_type": "code",
   "execution_count": null,
   "metadata": {},
   "outputs": [],
   "source": []
  }
 ],
 "metadata": {
  "kernelspec": {
   "display_name": "Python 3 (ipykernel)",
   "language": "python",
   "name": "python3"
  },
  "language_info": {
   "codemirror_mode": {
    "name": "ipython",
    "version": 3
   },
   "file_extension": ".py",
   "mimetype": "text/x-python",
   "name": "python",
   "nbconvert_exporter": "python",
   "pygments_lexer": "ipython3",
   "version": "3.9.12"
  }
 },
 "nbformat": 4,
 "nbformat_minor": 4
}
